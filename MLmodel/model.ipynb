{
 "cells": [
  {
   "cell_type": "code",
   "execution_count": 2,
   "metadata": {},
   "outputs": [],
   "source": [
    "from transformers import AutoTokenizer, AutoModel\n",
    "import torch\n",
    "import torch.nn.functional as F"
   ]
  },
  {
   "cell_type": "code",
   "execution_count": 3,
   "metadata": {},
   "outputs": [],
   "source": [
    "import faiss \n",
    "import numpy as np\n",
    "import pickle"
   ]
  },
  {
   "cell_type": "code",
   "execution_count": 4,
   "metadata": {},
   "outputs": [],
   "source": [
    "import os\n",
    "os.environ['KMP_DUPLICATE_LIB_OK']='True'"
   ]
  },
  {
   "cell_type": "code",
   "execution_count": 5,
   "metadata": {},
   "outputs": [],
   "source": [
    "class semanticEmbedding:\n",
    "    def __init__(self, model_name='sentence-transformers/all-mpnet-base-v2'):\n",
    "        self.tokenizer = AutoTokenizer.from_pretrained(model_name)\n",
    "        self.model = AutoModel.from_pretrained(model_name)\n",
    "\n",
    "    def mean_pooling(self, model_output, attention_mask):\n",
    "        token_embeddings = model_output[0] #First element of model_output contains all token embeddings\n",
    "        input_mask_expanded = attention_mask.unsqueeze(-1).expand(token_embeddings.size()).float()\n",
    "        return torch.sum(token_embeddings * input_mask_expanded, 1) / torch.clamp(input_mask_expanded.sum(1), min=1e-9)\n",
    "    def get_embedding(self, sentences):\n",
    "    # Tokenize sentences\n",
    "        encoded_input = self.tokenizer(sentences, padding=True, truncation=True, return_tensors='pt')\n",
    "        with torch.no_grad():\n",
    "            model_output = self.model(**encoded_input)\n",
    "        # Perform pooling\n",
    "        sentence_embeddings = self.mean_pooling(model_output, encoded_input['attention_mask'])\n",
    "\n",
    "        # Normalize embeddings\n",
    "        sentence_embeddings = F.normalize(sentence_embeddings, p=2, dim=1)\n",
    "        return sentence_embeddings.detach().numpy()"
   ]
  },
  {
   "cell_type": "code",
   "execution_count": 6,
   "metadata": {},
   "outputs": [],
   "source": [
    "class FaissIdx:\n",
    "\n",
    "    def __init__(self, model, dim=768):\n",
    "        self.index = faiss.IndexFlatIP(dim) # need to load the pickle model in the final file\n",
    "        # self.index = faiss\n",
    "        # Maintaining the document data\n",
    "        self.doc_map = dict()\n",
    "        self.model = model\n",
    "        self.ctr = 0\n",
    "\n",
    "    def add_doc(self, document_text):\n",
    "        self.index.add(self.model.get_embedding(document_text))\n",
    "        self.doc_map[self.ctr] = document_text # store the original document text\n",
    "        self.ctr += 1\n",
    "\n",
    "    def search_doc(self, query, k=3):\n",
    "        D, I = self.index.search(self.model.get_embedding(query), 5)\n",
    "        return [{self.doc_map[idx]: score} for idx, score in zip(I[0], D[0]) if idx in self.doc_map]\n",
    "    def save_index(self, index_filename, doc_map_filename):\n",
    "        # Save Faiss index to file\n",
    "        faiss.write_index(self.index, index_filename)\n",
    "\n",
    "        # Save document map to file using pickle\n",
    "        with open(doc_map_filename, 'wb') as f:\n",
    "            pickle.dump(self.doc_map, f)\n",
    "\n",
    "    def load_index(self, index_filename, doc_map_filename):\n",
    "        # Load Faiss index from file\n",
    "        self.index = faiss.read_index(index_filename)\n",
    "\n",
    "        # Load document map from file using pickle\n",
    "        with open(doc_map_filename, 'rb') as f:\n",
    "            self.doc_map = pickle.load(f)"
   ]
  },
  {
   "cell_type": "code",
   "execution_count": 7,
   "metadata": {},
   "outputs": [],
   "source": [
    "# creating an instance of the class\n",
    "model = semanticEmbedding()"
   ]
  },
  {
   "cell_type": "code",
   "execution_count": 8,
   "metadata": {},
   "outputs": [],
   "source": [
    "index = FaissIdx(model)"
   ]
  },
  {
   "cell_type": "code",
   "execution_count": 9,
   "metadata": {},
   "outputs": [],
   "source": [
    "index.load_index('index.bin', 'doc_map.pkl')"
   ]
  },
  {
   "cell_type": "code",
   "execution_count": 10,
   "metadata": {},
   "outputs": [],
   "source": [
    "import google.generativeai as genai"
   ]
  },
  {
   "cell_type": "code",
   "execution_count": 11,
   "metadata": {},
   "outputs": [],
   "source": [
    "genai.configure(api_key=os.environ.get('GOOGLE_API_KEY'))"
   ]
  },
  {
   "cell_type": "code",
   "execution_count": 12,
   "metadata": {},
   "outputs": [],
   "source": [
    "model = genai.GenerativeModel('gemini-pro')"
   ]
  },
  {
   "cell_type": "markdown",
   "metadata": {},
   "source": [
    "# given the query, run the following code sequentially"
   ]
  },
  {
   "cell_type": "code",
   "execution_count": 37,
   "metadata": {},
   "outputs": [],
   "source": [
    "query = \"I want to improve the situtaion of rural womens\""
   ]
  },
  {
   "cell_type": "code",
   "execution_count": 47,
   "metadata": {},
   "outputs": [],
   "source": [
    "query_result = index.search_doc(query)"
   ]
  },
  {
   "cell_type": "code",
   "execution_count": 39,
   "metadata": {},
   "outputs": [],
   "source": [
    "context = ''"
   ]
  },
  {
   "cell_type": "code",
   "execution_count": 40,
   "metadata": {},
   "outputs": [],
   "source": [
    "for i in range(5):\n",
    "    for key, value in query_result[i].items():\n",
    "        if(value>0.23):\n",
    "            context += key"
   ]
  },
  {
   "cell_type": "code",
   "execution_count": 41,
   "metadata": {},
   "outputs": [
    {
     "data": {
      "text/plain": [
       "'Information on Mahila Samakhya Programme by Department of School Education and Literacy = Mahila Samakhya Programme was launched for the education and empowerment of women in rural areas. Users can get information about Mahila Samakhya Programme like funding pattern, genesis, expansion & coverage and plan document. Details of women mobilisation and programme agendas and role of the National Resource Group of Mahila Samakhya are provided. Information about National Evaluation - Executive Summary in different states are also provided. Links to other Mahila Samakhya Sites are provided.Women Empowerment Scheme, Ministry of Women & Child Development = Get Information on Women Empowerment Scheme provided by the Ministry of Women & Child Development. Ministry of Women and Child Development, Government of India have come up with various schemes, programmes, social welfare schemes, Health and Nutrition, scholarship for women empowerment, Girl Child pregnant women, mothers, ward members, Anganwadi Workers, Women Health Volunteers, the women living in the rural & tribal areas, ex-servicemen, physically handicapped, nursing women, Lactating mother, widows/destitute, Old age women, women self-help group (SHG), Women Entrepreneurs and...Website of Nai Roshni, Ministry of Minority Affairs = The objective of the scheme is to empower and instill confidence among minority women, including their neighbours from other communities living in the same village/locality, by providing knowledge, tools and techniques for interacting with Government systems, banks and other institutions at all levels.Information on Hunnar Scheme, Jammu and Kashmir = Training cum skill development scheme for poor girls.Promotion and support of Women Self Help Groups in Backward Districts of India = Promotion and support of women self help groups in backward districts of India scheme by Department of Financial Services aims to promote women Self Help Groups (SHGs) in selected districts of the country through identified NGOs or other support organisations.'"
      ]
     },
     "execution_count": 41,
     "metadata": {},
     "output_type": "execute_result"
    }
   ],
   "source": [
    "context"
   ]
  },
  {
   "cell_type": "code",
   "execution_count": 42,
   "metadata": {},
   "outputs": [],
   "source": [
    "content = \"\""
   ]
  },
  {
   "cell_type": "code",
   "execution_count": 43,
   "metadata": {},
   "outputs": [],
   "source": [
    "if context == '':\n",
    "    print('Is there anything else I can help you with')\n",
    "else:\n",
    "    content = f'Use this query and respond with the following context in a presentatble manner. QUERY:{query} CONTEXT:{context}'"
   ]
  },
  {
   "cell_type": "code",
   "execution_count": 44,
   "metadata": {},
   "outputs": [
    {
     "data": {
      "text/plain": [
       "'Use this query and respond with the following context in a presentatble manner. QUERY:I want to improve the situtaion of rural womens CONTEXT:Information on Mahila Samakhya Programme by Department of School Education and Literacy = Mahila Samakhya Programme was launched for the education and empowerment of women in rural areas. Users can get information about Mahila Samakhya Programme like funding pattern, genesis, expansion & coverage and plan document. Details of women mobilisation and programme agendas and role of the National Resource Group of Mahila Samakhya are provided. Information about National Evaluation - Executive Summary in different states are also provided. Links to other Mahila Samakhya Sites are provided.Women Empowerment Scheme, Ministry of Women & Child Development = Get Information on Women Empowerment Scheme provided by the Ministry of Women & Child Development. Ministry of Women and Child Development, Government of India have come up with various schemes, programmes, social welfare schemes, Health and Nutrition, scholarship for women empowerment, Girl Child pregnant women, mothers, ward members, Anganwadi Workers, Women Health Volunteers, the women living in the rural & tribal areas, ex-servicemen, physically handicapped, nursing women, Lactating mother, widows/destitute, Old age women, women self-help group (SHG), Women Entrepreneurs and...Website of Nai Roshni, Ministry of Minority Affairs = The objective of the scheme is to empower and instill confidence among minority women, including their neighbours from other communities living in the same village/locality, by providing knowledge, tools and techniques for interacting with Government systems, banks and other institutions at all levels.Information on Hunnar Scheme, Jammu and Kashmir = Training cum skill development scheme for poor girls.Promotion and support of Women Self Help Groups in Backward Districts of India = Promotion and support of women self help groups in backward districts of India scheme by Department of Financial Services aims to promote women Self Help Groups (SHGs) in selected districts of the country through identified NGOs or other support organisations.'"
      ]
     },
     "execution_count": 44,
     "metadata": {},
     "output_type": "execute_result"
    }
   ],
   "source": [
    "content"
   ]
  },
  {
   "cell_type": "code",
   "execution_count": 45,
   "metadata": {},
   "outputs": [],
   "source": [
    "response = model.generate_content(content)"
   ]
  },
  {
   "cell_type": "code",
   "execution_count": 46,
   "metadata": {},
   "outputs": [
    {
     "name": "stdout",
     "output_type": "stream",
     "text": [
      "**Improving the Situation of Rural Women through Mahila Samakhya Programme**\n",
      "\n",
      "**Mahila Samakhya Programme Overview:**\n",
      "\n",
      "The Mahila Samakhya Programme is a government initiative launched to empower and educate women in rural areas.\n",
      "\n",
      "**Key Features:**\n",
      "\n",
      "* **Funding:** The programme receives funding from the Department of School Education and Literacy.\n",
      "* **Expansion:** The programme has been expanded to cover various states and districts.\n",
      "* **Genesis:** The programme was established to address the educational and social disparities faced by rural women.\n",
      "* **Women Mobilization:** The programme focuses on mobilizing women and encouraging their participation in community development.\n",
      "* **National Resource Group:** The National Resource Group provides guidance and support to Mahila Samakhya members.\n",
      "* **National Evaluation:** Regular evaluations assess the effectiveness of the programme in different states.\n",
      "\n",
      "**Other Related Schemes and Programmes:**\n",
      "\n",
      "* **Women Empowerment Scheme:** This scheme by the Ministry of Women & Child Development provides scholarships, healthcare, and social welfare support to empower women.\n",
      "* **Nai Roshni Scheme:** This scheme by the Ministry of Minority Affairs aims to empower minority women by providing training and access to resources.\n",
      "* **Hunnar Scheme:** This scheme in Jammu and Kashmir provides skill development training to poor young women.\n",
      "* **Women Self Help Groups:** This scheme by the Department of Financial Services promotes women's self-help groups in backward districts, providing financial assistance and support.\n",
      "\n",
      "**Benefits of the Mahila Samakhya Programme:**\n",
      "\n",
      "* Improved literacy rates among rural women\n",
      "* Increased awareness of women's rights and empowerment\n",
      "* Enhanced participation of women in community decision-making\n",
      "* Access to education and training opportunities\n",
      "* Increased income-generating activities for women\n",
      "\n",
      "**Conclusion:**\n",
      "\n",
      "The Mahila Samakhya Programme and other related schemes play a crucial role in improving the situation of rural women. By providing access to education, resources, and empowerment opportunities, these initiatives empower women and enable them to contribute to their communities and the nation as a whole.\n"
     ]
    }
   ],
   "source": [
    "print(response.text)"
   ]
  },
  {
   "cell_type": "code",
   "execution_count": null,
   "metadata": {},
   "outputs": [],
   "source": []
  }
 ],
 "metadata": {
  "kernelspec": {
   "display_name": "env",
   "language": "python",
   "name": "python3"
  },
  "language_info": {
   "codemirror_mode": {
    "name": "ipython",
    "version": 3
   },
   "file_extension": ".py",
   "mimetype": "text/x-python",
   "name": "python",
   "nbconvert_exporter": "python",
   "pygments_lexer": "ipython3",
   "version": "3.11.5"
  }
 },
 "nbformat": 4,
 "nbformat_minor": 2
}
