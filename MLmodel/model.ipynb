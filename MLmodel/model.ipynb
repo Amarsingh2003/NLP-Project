{
 "cells": [
  {
   "cell_type": "code",
   "execution_count": 1,
   "metadata": {},
   "outputs": [
    {
     "name": "stderr",
     "output_type": "stream",
     "text": [
      "m:\\Third Year\\Sixth Semester\\Projects\\NLP-Project\\env\\Lib\\site-packages\\tqdm\\auto.py:21: TqdmWarning: IProgress not found. Please update jupyter and ipywidgets. See https://ipywidgets.readthedocs.io/en/stable/user_install.html\n",
      "  from .autonotebook import tqdm as notebook_tqdm\n"
     ]
    }
   ],
   "source": [
    "from transformers import AutoTokenizer, AutoModel\n",
    "import torch\n",
    "import torch.nn.functional as F"
   ]
  },
  {
   "cell_type": "code",
   "execution_count": 2,
   "metadata": {},
   "outputs": [],
   "source": [
    "import faiss \n",
    "import numpy as np\n",
    "import pickle"
   ]
  },
  {
   "cell_type": "code",
   "execution_count": 3,
   "metadata": {},
   "outputs": [],
   "source": [
    "import os\n",
    "os.environ['KMP_DUPLICATE_LIB_OK']='True'"
   ]
  },
  {
   "cell_type": "code",
   "execution_count": 4,
   "metadata": {},
   "outputs": [],
   "source": [
    "class semanticEmbedding:\n",
    "    def __init__(self, model_name='sentence-transformers/all-mpnet-base-v2'):\n",
    "        self.tokenizer = AutoTokenizer.from_pretrained(model_name)\n",
    "        self.model = AutoModel.from_pretrained(model_name)\n",
    "\n",
    "    def mean_pooling(self, model_output, attention_mask):\n",
    "        token_embeddings = model_output[0] #First element of model_output contains all token embeddings\n",
    "        input_mask_expanded = attention_mask.unsqueeze(-1).expand(token_embeddings.size()).float()\n",
    "        return torch.sum(token_embeddings * input_mask_expanded, 1) / torch.clamp(input_mask_expanded.sum(1), min=1e-9)\n",
    "    def get_embedding(self, sentences):\n",
    "    # Tokenize sentences\n",
    "        encoded_input = self.tokenizer(sentences, padding=True, truncation=True, return_tensors='pt')\n",
    "        with torch.no_grad():\n",
    "            model_output = self.model(**encoded_input)\n",
    "        # Perform pooling\n",
    "        sentence_embeddings = self.mean_pooling(model_output, encoded_input['attention_mask'])\n",
    "\n",
    "        # Normalize embeddings\n",
    "        sentence_embeddings = F.normalize(sentence_embeddings, p=2, dim=1)\n",
    "        return sentence_embeddings.detach().numpy()"
   ]
  },
  {
   "cell_type": "code",
   "execution_count": 5,
   "metadata": {},
   "outputs": [],
   "source": [
    "class FaissIdx:\n",
    "\n",
    "    def __init__(self, model, dim=768):\n",
    "        self.index = faiss.IndexFlatIP(dim) # need to load the pickle model in the final file\n",
    "        # self.index = faiss\n",
    "        # Maintaining the document data\n",
    "        self.doc_map = dict()\n",
    "        self.model = model\n",
    "        self.ctr = 0\n",
    "\n",
    "    def add_doc(self, document_text):\n",
    "        self.index.add(self.model.get_embedding(document_text))\n",
    "        self.doc_map[self.ctr] = document_text # store the original document text\n",
    "        self.ctr += 1\n",
    "\n",
    "    def search_doc(self, query, k=3):\n",
    "        D, I = self.index.search(self.model.get_embedding(query), 5)\n",
    "        return [{self.doc_map[idx]: score} for idx, score in zip(I[0], D[0]) if idx in self.doc_map]\n",
    "    def save_index(self, index_filename, doc_map_filename):\n",
    "        # Save Faiss index to file\n",
    "        faiss.write_index(self.index, index_filename)\n",
    "\n",
    "        # Save document map to file using pickle\n",
    "        with open(doc_map_filename, 'wb') as f:\n",
    "            pickle.dump(self.doc_map, f)\n",
    "\n",
    "    def load_index(self, index_filename, doc_map_filename):\n",
    "        # Load Faiss index from file\n",
    "        self.index = faiss.read_index(index_filename)\n",
    "\n",
    "        # Load document map from file using pickle\n",
    "        with open(doc_map_filename, 'rb') as f:\n",
    "            self.doc_map = pickle.load(f)"
   ]
  },
  {
   "cell_type": "code",
   "execution_count": 6,
   "metadata": {},
   "outputs": [],
   "source": [
    "# creating an instance of the class\n",
    "model = semanticEmbedding()"
   ]
  },
  {
   "cell_type": "code",
   "execution_count": 7,
   "metadata": {},
   "outputs": [],
   "source": [
    "index = FaissIdx(model)"
   ]
  },
  {
   "cell_type": "code",
   "execution_count": 8,
   "metadata": {},
   "outputs": [],
   "source": [
    "index.load_index('index.bin', 'doc_map.pkl')"
   ]
  },
  {
   "cell_type": "code",
   "execution_count": 43,
   "metadata": {},
   "outputs": [],
   "source": [
    "import google.generativeai as genai"
   ]
  },
  {
   "cell_type": "code",
   "execution_count": 44,
   "metadata": {},
   "outputs": [],
   "source": [
    "genai.configure(api_key=os.environ.get('GOOGLE_API_KEY'))"
   ]
  },
  {
   "cell_type": "code",
   "execution_count": 45,
   "metadata": {},
   "outputs": [],
   "source": [
    "model = genai.GenerativeModel('gemini-pro')"
   ]
  },
  {
   "cell_type": "code",
   "execution_count": 63,
   "metadata": {},
   "outputs": [],
   "source": [
    "query = \"I want some money for my startup\""
   ]
  },
  {
   "cell_type": "code",
   "execution_count": 64,
   "metadata": {},
   "outputs": [],
   "source": [
    "query_result = index.search_doc(query)"
   ]
  },
  {
   "cell_type": "code",
   "execution_count": 65,
   "metadata": {},
   "outputs": [],
   "source": [
    "context = ''"
   ]
  },
  {
   "cell_type": "code",
   "execution_count": 66,
   "metadata": {},
   "outputs": [],
   "source": [
    "for i in range(5):\n",
    "    for key, value in query_result[i].items():\n",
    "        if(value>0.23):\n",
    "            context += key"
   ]
  },
  {
   "cell_type": "code",
   "execution_count": 67,
   "metadata": {},
   "outputs": [
    {
     "data": {
      "text/plain": [
       "'Website of Startup India = Startup India is a flagship initiative of the Government of India, intended to build a strong eco-system for nurturing innovation and Startups in the country that will drive sustainable economic growth and generate large scale employment opportunities. The objective is that India must become a nation of job creators instead of being a nation of job seekers. The Government through this initiative aims to empower Startups to grow through innovation and design.Entrepreneurial and Managerial Development of SMEs through Incubators = The objective of the scheme scheme is to provide early stage funding to nurture innovative business ideas (new indigenous technology, processes, products, procedures, etc.) that could be commercialised in a year.Startup India Seed Fund Scheme (SISFS) = The Startup India Seed Fund Scheme aims to provide financial assistance to startups for proof of concept, prototype development, product trials, market entry and commercialisation.Entrepreneurial Schemes of National Backward Classes Finance and Development = Get information on Entrepreneurial Schemes of NBCFDC (New Swarnima for Women_Saksham_Shilp Sampada_Micro Finance Scheme_Mahila Samriddhi Yojana_Krishi Sampada)Information on Venture Capital Fund for Backward Classes (VCF-BC) = \"Entrepreneurship\" relates to entrepreneurs managing businesses which are oriented towards innovation and growth technologies. The spirit of the above mentioned fund is to support those entrepreneurs who will create wealth and value for society and at the same time promoting profitable business.'"
      ]
     },
     "execution_count": 67,
     "metadata": {},
     "output_type": "execute_result"
    }
   ],
   "source": [
    "context"
   ]
  },
  {
   "cell_type": "code",
   "execution_count": 68,
   "metadata": {},
   "outputs": [],
   "source": [
    "content = \"\""
   ]
  },
  {
   "cell_type": "code",
   "execution_count": 69,
   "metadata": {},
   "outputs": [],
   "source": [
    "if context == '':\n",
    "    print('Is there anything else I can help you with')\n",
    "else:\n",
    "    content = f'Respond like like you are a consultant, Use this query and respond with the following context in a presentatble manner. QUERY:{query} CONTEXT:{context}'"
   ]
  },
  {
   "cell_type": "code",
   "execution_count": 70,
   "metadata": {},
   "outputs": [
    {
     "data": {
      "text/plain": [
       "'Respond like like you are a consultant, Use this query and respond with the following context in a presentatble manner. QUERY:I want some money for my startup CONTEXT:Website of Startup India = Startup India is a flagship initiative of the Government of India, intended to build a strong eco-system for nurturing innovation and Startups in the country that will drive sustainable economic growth and generate large scale employment opportunities. The objective is that India must become a nation of job creators instead of being a nation of job seekers. The Government through this initiative aims to empower Startups to grow through innovation and design.Entrepreneurial and Managerial Development of SMEs through Incubators = The objective of the scheme scheme is to provide early stage funding to nurture innovative business ideas (new indigenous technology, processes, products, procedures, etc.) that could be commercialised in a year.Startup India Seed Fund Scheme (SISFS) = The Startup India Seed Fund Scheme aims to provide financial assistance to startups for proof of concept, prototype development, product trials, market entry and commercialisation.Entrepreneurial Schemes of National Backward Classes Finance and Development = Get information on Entrepreneurial Schemes of NBCFDC (New Swarnima for Women_Saksham_Shilp Sampada_Micro Finance Scheme_Mahila Samriddhi Yojana_Krishi Sampada)Information on Venture Capital Fund for Backward Classes (VCF-BC) = \"Entrepreneurship\" relates to entrepreneurs managing businesses which are oriented towards innovation and growth technologies. The spirit of the above mentioned fund is to support those entrepreneurs who will create wealth and value for society and at the same time promoting profitable business.'"
      ]
     },
     "execution_count": 70,
     "metadata": {},
     "output_type": "execute_result"
    }
   ],
   "source": [
    "content"
   ]
  },
  {
   "cell_type": "code",
   "execution_count": 72,
   "metadata": {},
   "outputs": [],
   "source": [
    "response = model.generate_content(content)"
   ]
  },
  {
   "cell_type": "code",
   "execution_count": 73,
   "metadata": {},
   "outputs": [
    {
     "name": "stdout",
     "output_type": "stream",
     "text": [
      "**Presentable Response**\n",
      "\n",
      "**Subject: Funding Options for Your Startup through Government Initiatives**\n",
      "\n",
      "**Introduction**\n",
      "\n",
      "In alignment with your query, we have identified several funding opportunities from the Government of India tailored to support startups like yours. These initiatives aim to foster innovation, drive economic growth, and create employment opportunities.\n",
      "\n",
      "**Government of India Initiatives for Startup Funding**\n",
      "\n",
      "**1. Startup India Seed Fund Scheme (SISFS)**\n",
      "\n",
      "* Provides financial assistance for proof of concept, prototype development, product trials, and commercialization.\n",
      "\n",
      "**2. Entrepreneurial and Managerial Development of SMEs through Incubators**\n",
      "\n",
      "* Offers early-stage funding for innovative business ideas with a focus on commercialization.\n",
      "\n",
      "**3. Entrepreneurial Schemes of National Backward Classes Finance and Development (NBCFDC)**\n",
      "\n",
      "* Provides financial support to entrepreneurs from backward classes through various schemes, such as Mahila Samriddhi Yojana and Krishi Sampada.\n",
      "\n",
      "**4. Venture Capital Fund for Backward Classes (VCF-BC)**\n",
      "\n",
      "* Supports entrepreneurs from backward classes who demonstrate a commitment to innovation, wealth creation, and profitable business practices.\n",
      "\n",
      "**Eligibility and Application Process**\n",
      "\n",
      "Eligibility criteria and application processes vary for each initiative. We recommend referring to the respective websites for detailed information.\n",
      "\n",
      "**Benefits of Government Funding**\n",
      "\n",
      "* **Financial support:** Access to funding for various stages of startup development.\n",
      "* **Mentorship and support:** Some schemes offer mentorship and support services to help startups succeed.\n",
      "* **Network building:** Opportunities to connect with investors, mentors, and potential partners.\n",
      "\n",
      "**Conclusion**\n",
      "\n",
      "We encourage you to explore these funding options available through the Government of India. With the right funding and support, your startup can gain traction, foster innovation, and contribute to the economic growth of our nation.\n",
      "\n",
      "**Additional Resources**\n",
      "\n",
      "* Startup India Website: https://startupindia.gov.in/\n",
      "* NBCFDC Website: https://www.nbfcfdc.org/\n",
      "* VCF-BC Website: https://vcf.nbfcfdc.org/\n"
     ]
    }
   ],
   "source": [
    "print(response.text)"
   ]
  },
  {
   "cell_type": "code",
   "execution_count": null,
   "metadata": {},
   "outputs": [],
   "source": []
  }
 ],
 "metadata": {
  "kernelspec": {
   "display_name": "env",
   "language": "python",
   "name": "python3"
  },
  "language_info": {
   "codemirror_mode": {
    "name": "ipython",
    "version": 3
   },
   "file_extension": ".py",
   "mimetype": "text/x-python",
   "name": "python",
   "nbconvert_exporter": "python",
   "pygments_lexer": "ipython3",
   "version": "3.11.5"
  }
 },
 "nbformat": 4,
 "nbformat_minor": 2
}
