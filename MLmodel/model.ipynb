{
 "cells": [
  {
   "cell_type": "code",
   "execution_count": 1,
   "metadata": {},
   "outputs": [
    {
     "name": "stderr",
     "output_type": "stream",
     "text": [
      "m:\\Third Year\\Sixth Semester\\Projects\\NLP-Project\\env\\Lib\\site-packages\\tqdm\\auto.py:21: TqdmWarning: IProgress not found. Please update jupyter and ipywidgets. See https://ipywidgets.readthedocs.io/en/stable/user_install.html\n",
      "  from .autonotebook import tqdm as notebook_tqdm\n"
     ]
    }
   ],
   "source": [
    "from transformers import AutoTokenizer, AutoModel\n",
    "import torch\n",
    "import torch.nn.functional as F"
   ]
  },
  {
   "cell_type": "code",
   "execution_count": 2,
   "metadata": {},
   "outputs": [],
   "source": [
    "import faiss \n",
    "import numpy as np\n",
    "import pickle"
   ]
  },
  {
   "cell_type": "code",
   "execution_count": 3,
   "metadata": {},
   "outputs": [],
   "source": [
    "import os\n",
    "os.environ['KMP_DUPLICATE_LIB_OK']='True'"
   ]
  },
  {
   "cell_type": "code",
   "execution_count": 4,
   "metadata": {},
   "outputs": [],
   "source": [
    "class semanticEmbedding:\n",
    "    def __init__(self, model_name='sentence-transformers/all-mpnet-base-v2'):\n",
    "        self.tokenizer = AutoTokenizer.from_pretrained(model_name)\n",
    "        self.model = AutoModel.from_pretrained(model_name)\n",
    "\n",
    "    def mean_pooling(self, model_output, attention_mask):\n",
    "        token_embeddings = model_output[0] #First element of model_output contains all token embeddings\n",
    "        input_mask_expanded = attention_mask.unsqueeze(-1).expand(token_embeddings.size()).float()\n",
    "        return torch.sum(token_embeddings * input_mask_expanded, 1) / torch.clamp(input_mask_expanded.sum(1), min=1e-9)\n",
    "    def get_embedding(self, sentences):\n",
    "    # Tokenize sentences\n",
    "        encoded_input = self.tokenizer(sentences, padding=True, truncation=True, return_tensors='pt')\n",
    "        with torch.no_grad():\n",
    "            model_output = self.model(**encoded_input)\n",
    "        # Perform pooling\n",
    "        sentence_embeddings = self.mean_pooling(model_output, encoded_input['attention_mask'])\n",
    "\n",
    "        # Normalize embeddings\n",
    "        sentence_embeddings = F.normalize(sentence_embeddings, p=2, dim=1)\n",
    "        return sentence_embeddings.detach().numpy()"
   ]
  },
  {
   "cell_type": "code",
   "execution_count": 15,
   "metadata": {},
   "outputs": [],
   "source": [
    "class FaissIdx:\n",
    "\n",
    "    def __init__(self, model, dim=768):\n",
    "        self.index = faiss.IndexFlatIP(dim) # need to load the pickle model in the final file\n",
    "        # self.index = faiss\n",
    "        # Maintaining the document data\n",
    "        self.doc_map = dict()\n",
    "        self.model = model\n",
    "        self.ctr = 0\n",
    "\n",
    "    def add_doc(self, document_text):\n",
    "        self.index.add(self.model.get_embedding(document_text))\n",
    "        self.doc_map[self.ctr] = document_text # store the original document text\n",
    "        self.ctr += 1\n",
    "\n",
    "    def search_doc(self, query, k=3):\n",
    "        D, I = self.index.search(self.model.get_embedding(query), 5)\n",
    "        return [{self.doc_map[idx]: score} for idx, score in zip(I[0], D[0]) if idx in self.doc_map]\n",
    "    def save_index(self, index_filename, doc_map_filename):\n",
    "        # Save Faiss index to file\n",
    "        faiss.write_index(self.index, index_filename)\n",
    "\n",
    "        # Save document map to file using pickle\n",
    "        with open(doc_map_filename, 'wb') as f:\n",
    "            pickle.dump(self.doc_map, f)\n",
    "\n",
    "    def load_index(self, index_filename, doc_map_filename):\n",
    "        # Load Faiss index from file\n",
    "        self.index = faiss.read_index(index_filename)\n",
    "\n",
    "        # Load document map from file using pickle\n",
    "        with open(doc_map_filename, 'rb') as f:\n",
    "            self.doc_map = pickle.load(f)"
   ]
  },
  {
   "cell_type": "code",
   "execution_count": 16,
   "metadata": {},
   "outputs": [],
   "source": [
    "# creating an instance of the class\n",
    "model = semanticEmbedding()"
   ]
  },
  {
   "cell_type": "code",
   "execution_count": 17,
   "metadata": {},
   "outputs": [],
   "source": [
    "index = FaissIdx(model)"
   ]
  },
  {
   "cell_type": "code",
   "execution_count": 18,
   "metadata": {},
   "outputs": [],
   "source": [
    "index.load_index('index.bin', 'doc_map.pkl')"
   ]
  },
  {
   "cell_type": "code",
   "execution_count": 77,
   "metadata": {},
   "outputs": [],
   "source": [
    "query = \"I want to study abroad\""
   ]
  },
  {
   "cell_type": "code",
   "execution_count": 78,
   "metadata": {},
   "outputs": [],
   "source": [
    "query_result = index.search_doc(query)"
   ]
  },
  {
   "cell_type": "code",
   "execution_count": 79,
   "metadata": {},
   "outputs": [],
   "source": [
    "context = ''"
   ]
  },
  {
   "cell_type": "code",
   "execution_count": 80,
   "metadata": {},
   "outputs": [],
   "source": [
    "for i in range(5):\n",
    "    for key, value in query_result[i].items():\n",
    "        if(value>0.23):\n",
    "            context += key"
   ]
  },
  {
   "cell_type": "code",
   "execution_count": 81,
   "metadata": {},
   "outputs": [
    {
     "data": {
      "text/plain": [
       "'Scheme of National Overseas Scholarship = The Central Sector Scheme of National Overseas Scholarship is to facilitate the low income students belonging to the Scheduled Castes, Denotified Nomadic and Semi-Nomadic Tribes, Landless Agricultural Labourers and Traditional Artisans category to obtain higher education viz., Master degree or Ph. D courses by studying abroad thereby improving their Economic and Social status. During Selection Year 2022-23, there are 125 fresh awards, subject to availability of funds. Out of 125 Awards, 115 Awards are for Scheduled Castes candidates, 06 Awards are for Denotified, Nomadic and Semi-Nomadic...Scheme of National Overseas Scholarship = The Central Sector Scheme of National Overseas Scholarship is to facilitate the low income students belonging to the Scheduled Castes, Denotified Nomadic and Semi-Nomadic Tribes, Landless Agricultural Labourers and Traditional Artisans category to obtain higher education viz., Master degree or Ph. D courses by studying abroad thereby improving their Economic and Social status. During Selection Year 2022-23, there are 125 fresh awards, subject to availability of funds. Out of 125 Awards, 115 Awards are for Scheduled Castes candidates, 06 Awards are for Denotified, Nomadic and Semi-Nomadic...National Overseas Scholarships for Scheduled Tribe Students = This Central Scheme of National Overseas Scholarships for Scheduled Tribe (ST) Students seeks to benefit ST students. The scheme was introduced by the Ministry of Tribal Affairs. The objective of this scheme is to provide financial assistance to meritorious students for pursuing higher studies in foreign university in specified files of Master Level Courses, Ph.D and Post-Doctoral research programmes, in the field of Engineering, Technology and Science. Detailed information is given on the scheme, its objectives, funding, beneficiaries etc. You can also find information on where to apply,...Scholarship programme for diaspora children = Get information on Scholarship Programme for Diaspora Children (SPDC) by Ministry of Overseas Indian Affairs. Details are available on the scholarship money for students under courses like Engineering, Technology, Humanities, Liberal Arts, Commerce, Management, Journalism, Hotel Management, Animal Husbandry etc. Information on how to apply for the scholarship scheme is provided. Application form and information booklet of SPDC is also available.Scheme to provide State run scholarship to Medical students in Tripura = Users can get detailed information on the State run scholarship to Medical students in Tripura.'"
      ]
     },
     "execution_count": 81,
     "metadata": {},
     "output_type": "execute_result"
    }
   ],
   "source": [
    "context"
   ]
  },
  {
   "cell_type": "code",
   "execution_count": 82,
   "metadata": {},
   "outputs": [],
   "source": [
    "content = \"\""
   ]
  },
  {
   "cell_type": "code",
   "execution_count": 73,
   "metadata": {},
   "outputs": [],
   "source": [
    "if context == '':\n",
    "    print('Is there anything else I can help you with')\n",
    "else:\n",
    "    content = f'Give the response in proper english with numbering and all Consider the query and use the context given followed by query in the curly braces and generate a response accordingly. This is the query: {query_result} and the context is: {context}'\n"
   ]
  },
  {
   "cell_type": "code",
   "execution_count": 74,
   "metadata": {},
   "outputs": [
    {
     "data": {
      "text/plain": [
       "\"Give the response in proper english with numbering and all Consider the query and use the context given followed by query in the curly braces and generate a response accordingly. This is the query: [{'Scheme of National Overseas Scholarship = The Central Sector Scheme of National Overseas Scholarship is to facilitate the low income students belonging to the Scheduled Castes, Denotified Nomadic and Semi-Nomadic Tribes, Landless Agricultural Labourers and Traditional Artisans category to obtain higher education viz., Master degree or Ph. D courses by studying abroad thereby improving their Economic and Social status. During Selection Year 2022-23, there are 125 fresh awards, subject to availability of funds. Out of 125 Awards, 115 Awards are for Scheduled Castes candidates, 06 Awards are for Denotified, Nomadic and Semi-Nomadic...': 0.4516108}, {'Scheme of National Overseas Scholarship = The Central Sector Scheme of National Overseas Scholarship is to facilitate the low income students belonging to the Scheduled Castes, Denotified Nomadic and Semi-Nomadic Tribes, Landless Agricultural Labourers and Traditional Artisans category to obtain higher education viz., Master degree or Ph. D courses by studying abroad thereby improving their Economic and Social status. During Selection Year 2022-23, there are 125 fresh awards, subject to availability of funds. Out of 125 Awards, 115 Awards are for Scheduled Castes candidates, 06 Awards are for Denotified, Nomadic and Semi-Nomadic...': 0.4516108}, {'National Overseas Scholarships for Scheduled Tribe Students = This Central Scheme of National Overseas Scholarships for Scheduled Tribe (ST) Students seeks to benefit ST students. The scheme was introduced by the Ministry of Tribal Affairs. The objective of this scheme is to provide financial assistance to meritorious students for pursuing higher studies in foreign university in specified files of Master Level Courses, Ph.D and Post-Doctoral research programmes, in the field of Engineering, Technology and Science. Detailed information is given on the scheme, its objectives, funding, beneficiaries etc. You can also find information on where to apply,...': 0.4452836}, {'Scholarship programme for diaspora children = Get information on Scholarship Programme for Diaspora Children (SPDC) by Ministry of Overseas Indian Affairs. Details are available on the scholarship money for students under courses like Engineering, Technology, Humanities, Liberal Arts, Commerce, Management, Journalism, Hotel Management, Animal Husbandry etc. Information on how to apply for the scholarship scheme is provided. Application form and information booklet of SPDC is also available.': 0.41596693}, {'Scheme to provide State run scholarship to Medical students in Tripura = Users can get detailed information on the State run scholarship to Medical students in Tripura.': 0.39976847}] and the context is: Scheme of National Overseas Scholarship = The Central Sector Scheme of National Overseas Scholarship is to facilitate the low income students belonging to the Scheduled Castes, Denotified Nomadic and Semi-Nomadic Tribes, Landless Agricultural Labourers and Traditional Artisans category to obtain higher education viz., Master degree or Ph. D courses by studying abroad thereby improving their Economic and Social status. During Selection Year 2022-23, there are 125 fresh awards, subject to availability of funds. Out of 125 Awards, 115 Awards are for Scheduled Castes candidates, 06 Awards are for Denotified, Nomadic and Semi-Nomadic...Scheme of National Overseas Scholarship = The Central Sector Scheme of National Overseas Scholarship is to facilitate the low income students belonging to the Scheduled Castes, Denotified Nomadic and Semi-Nomadic Tribes, Landless Agricultural Labourers and Traditional Artisans category to obtain higher education viz., Master degree or Ph. D courses by studying abroad thereby improving their Economic and Social status. During Selection Year 2022-23, there are 125 fresh awards, subject to availability of funds. Out of 125 Awards, 115 Awards are for Scheduled Castes candidates, 06 Awards are for Denotified, Nomadic and Semi-Nomadic...National Overseas Scholarships for Scheduled Tribe Students = This Central Scheme of National Overseas Scholarships for Scheduled Tribe (ST) Students seeks to benefit ST students. The scheme was introduced by the Ministry of Tribal Affairs. The objective of this scheme is to provide financial assistance to meritorious students for pursuing higher studies in foreign university in specified files of Master Level Courses, Ph.D and Post-Doctoral research programmes, in the field of Engineering, Technology and Science. Detailed information is given on the scheme, its objectives, funding, beneficiaries etc. You can also find information on where to apply,...Scholarship programme for diaspora children = Get information on Scholarship Programme for Diaspora Children (SPDC) by Ministry of Overseas Indian Affairs. Details are available on the scholarship money for students under courses like Engineering, Technology, Humanities, Liberal Arts, Commerce, Management, Journalism, Hotel Management, Animal Husbandry etc. Information on how to apply for the scholarship scheme is provided. Application form and information booklet of SPDC is also available.Scheme to provide State run scholarship to Medical students in Tripura = Users can get detailed information on the State run scholarship to Medical students in Tripura.Scheme of National Overseas Scholarship = The Central Sector Scheme of National Overseas Scholarship is to facilitate the low income students belonging to the Scheduled Castes, Denotified Nomadic and Semi-Nomadic Tribes, Landless Agricultural Labourers and Traditional Artisans category to obtain higher education viz., Master degree or Ph. D courses by studying abroad thereby improving their Economic and Social status. During Selection Year 2022-23, there are 125 fresh awards, subject to availability of funds. Out of 125 Awards, 115 Awards are for Scheduled Castes candidates, 06 Awards are for Denotified, Nomadic and Semi-Nomadic...Scheme of National Overseas Scholarship = The Central Sector Scheme of National Overseas Scholarship is to facilitate the low income students belonging to the Scheduled Castes, Denotified Nomadic and Semi-Nomadic Tribes, Landless Agricultural Labourers and Traditional Artisans category to obtain higher education viz., Master degree or Ph. D courses by studying abroad thereby improving their Economic and Social status. During Selection Year 2022-23, there are 125 fresh awards, subject to availability of funds. Out of 125 Awards, 115 Awards are for Scheduled Castes candidates, 06 Awards are for Denotified, Nomadic and Semi-Nomadic...National Overseas Scholarships for Scheduled Tribe Students = This Central Scheme of National Overseas Scholarships for Scheduled Tribe (ST) Students seeks to benefit ST students. The scheme was introduced by the Ministry of Tribal Affairs. The objective of this scheme is to provide financial assistance to meritorious students for pursuing higher studies in foreign university in specified files of Master Level Courses, Ph.D and Post-Doctoral research programmes, in the field of Engineering, Technology and Science. Detailed information is given on the scheme, its objectives, funding, beneficiaries etc. You can also find information on where to apply,...Scholarship programme for diaspora children = Get information on Scholarship Programme for Diaspora Children (SPDC) by Ministry of Overseas Indian Affairs. Details are available on the scholarship money for students under courses like Engineering, Technology, Humanities, Liberal Arts, Commerce, Management, Journalism, Hotel Management, Animal Husbandry etc. Information on how to apply for the scholarship scheme is provided. Application form and information booklet of SPDC is also available.Scheme to provide State run scholarship to Medical students in Tripura = Users can get detailed information on the State run scholarship to Medical students in Tripura.\""
      ]
     },
     "execution_count": 74,
     "metadata": {},
     "output_type": "execute_result"
    }
   ],
   "source": [
    "content"
   ]
  },
  {
   "cell_type": "code",
   "execution_count": 46,
   "metadata": {},
   "outputs": [],
   "source": [
    "import google.generativeai as genai"
   ]
  },
  {
   "cell_type": "code",
   "execution_count": 47,
   "metadata": {},
   "outputs": [],
   "source": [
    "genai.configure(api_key=os.environ.get('GOOGLE_API_KEY'))"
   ]
  },
  {
   "cell_type": "code",
   "execution_count": 48,
   "metadata": {},
   "outputs": [],
   "source": [
    "model = genai.GenerativeModel('gemini-pro')"
   ]
  },
  {
   "cell_type": "code",
   "execution_count": 75,
   "metadata": {},
   "outputs": [],
   "source": [
    "response = model.generate_content(content)"
   ]
  },
  {
   "cell_type": "code",
   "execution_count": 76,
   "metadata": {},
   "outputs": [
    {
     "name": "stdout",
     "output_type": "stream",
     "text": [
      "1. **Scheme of National Overseas Scholarship**\n",
      "\n",
      "   The Central Sector Scheme of National Overseas Scholarship aims to facilitate low-income students from the Scheduled Castes, Denotified Nomadic and Semi-Nomadic Tribes, Landless Agricultural Labourers, and Traditional Artisans categories to pursue higher education abroad. The objective is to enhance their economic and social status by providing them with opportunities to obtain Master's degrees or Ph. D. courses. During the Selection Year 2022-23, there are 125 fresh awards available, subject to the availability of funds. Out of these, 115 Awards are reserved for Scheduled Castes candidates, 06 Awards are for Denotified, Nomadic and Semi-Nomadic Tribes, and the remaining awards are distributed among other eligible categories.\n",
      "\n",
      "2. **National Overseas Scholarships for Scheduled Tribe Students**\n",
      "\n",
      "   This Central Scheme of National Overseas Scholarships for Scheduled Tribe (ST) Students specifically supports ST students by providing financial assistance for pursuing higher studies in foreign universities. The scheme focuses on Master Level Courses, Ph.D., and Post-Doctoral research programs in the fields of Engineering, Technology, and Science. Detailed information on the scheme, its objectives, funding, beneficiaries, and application process is available.\n",
      "\n",
      "3. **Scholarship programme for diaspora children**\n",
      "\n",
      "   The Scholarship Program for Diaspora Children (SPDC), offered by the Ministry of Overseas Indian Affairs, provides financial support to students from the Indian diaspora. The program offers scholarships for courses in various fields, including Engineering, Technology, Humanities, Liberal Arts, Commerce, Management, Journalism, Hotel Management, and Animal Husbandry. Information on the scholarship amount, eligibility criteria, and application process is available on the official website.\n",
      "\n",
      "4. **Scheme to provide State run scholarship to Medical students in Tripura**\n",
      "\n",
      "   This scheme provides detailed information on scholarships offered by the state of Tripura specifically for medical students. The scheme aims to support meritorious medical students from the state by providing financial assistance. Information on eligibility criteria, application process, and scholarship amount is available.\n"
     ]
    }
   ],
   "source": [
    "print(response.text)"
   ]
  },
  {
   "cell_type": "code",
   "execution_count": null,
   "metadata": {},
   "outputs": [],
   "source": []
  }
 ],
 "metadata": {
  "kernelspec": {
   "display_name": "env",
   "language": "python",
   "name": "python3"
  },
  "language_info": {
   "codemirror_mode": {
    "name": "ipython",
    "version": 3
   },
   "file_extension": ".py",
   "mimetype": "text/x-python",
   "name": "python",
   "nbconvert_exporter": "python",
   "pygments_lexer": "ipython3",
   "version": "3.11.5"
  }
 },
 "nbformat": 4,
 "nbformat_minor": 2
}
