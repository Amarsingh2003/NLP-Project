{
 "cells": [
  {
   "cell_type": "code",
   "execution_count": 1,
   "metadata": {},
   "outputs": [
    {
     "name": "stderr",
     "output_type": "stream",
     "text": [
      "c:\\Users\\hp\\Desktop\\NLP-Project\\env\\lib\\site-packages\\tqdm\\auto.py:21: TqdmWarning: IProgress not found. Please update jupyter and ipywidgets. See https://ipywidgets.readthedocs.io/en/stable/user_install.html\n",
      "  from .autonotebook import tqdm as notebook_tqdm\n"
     ]
    }
   ],
   "source": [
    "from transformers import AutoTokenizer, AutoModel\n",
    "import torch\n",
    "import torch.nn.functional as F"
   ]
  },
  {
   "cell_type": "code",
   "execution_count": 2,
   "metadata": {},
   "outputs": [],
   "source": [
    "import faiss \n",
    "import numpy as np\n",
    "import pickle"
   ]
  },
  {
   "cell_type": "code",
   "execution_count": 3,
   "metadata": {},
   "outputs": [],
   "source": [
    "import os\n",
    "os.environ['KMP_DUPLICATE_LIB_OK']='True'"
   ]
  },
  {
   "cell_type": "code",
   "execution_count": 4,
   "metadata": {},
   "outputs": [],
   "source": [
    "class semanticEmbedding:\n",
    "    def __init__(self, model_name='sentence-transformers/all-mpnet-base-v2'):\n",
    "        self.tokenizer = AutoTokenizer.from_pretrained(model_name)\n",
    "        self.model = AutoModel.from_pretrained(model_name)\n",
    "\n",
    "    def mean_pooling(self, model_output, attention_mask):\n",
    "        token_embeddings = model_output[0] #First element of model_output contains all token embeddings\n",
    "        input_mask_expanded = attention_mask.unsqueeze(-1).expand(token_embeddings.size()).float()\n",
    "        return torch.sum(token_embeddings * input_mask_expanded, 1) / torch.clamp(input_mask_expanded.sum(1), min=1e-9)\n",
    "    def get_embedding(self, sentences):\n",
    "    # Tokenize sentences\n",
    "        encoded_input = self.tokenizer(sentences, padding=True, truncation=True, return_tensors='pt')\n",
    "        with torch.no_grad():\n",
    "            model_output = self.model(**encoded_input)\n",
    "        # Perform pooling\n",
    "        sentence_embeddings = self.mean_pooling(model_output, encoded_input['attention_mask'])\n",
    "\n",
    "        # Normalize embeddings\n",
    "        sentence_embeddings = F.normalize(sentence_embeddings, p=2, dim=1)\n",
    "        return sentence_embeddings.detach().numpy()"
   ]
  },
  {
   "cell_type": "code",
   "execution_count": 5,
   "metadata": {},
   "outputs": [],
   "source": [
    "class FaissIdx:\n",
    "\n",
    "    def __init__(self, model, dim=768):\n",
    "        self.index = faiss.IndexFlatIP(dim) # need to load the pickle model in the final file\n",
    "        # self.index = faiss\n",
    "        # Maintaining the document data\n",
    "        self.doc_map = dict()\n",
    "        self.model = model\n",
    "        self.ctr = 0\n",
    "\n",
    "    def add_doc(self, document_text):\n",
    "        self.index.add(self.model.get_embedding(document_text))\n",
    "        self.doc_map[self.ctr] = document_text # store the original document text\n",
    "        self.ctr += 1\n",
    "\n",
    "    def search_doc(self, query, k=3):\n",
    "        D, I = self.index.search(self.model.get_embedding(query), 5)\n",
    "        return [{self.doc_map[idx]: score} for idx, score in zip(I[0], D[0]) if idx in self.doc_map]\n",
    "    def save_index(self, index_filename, doc_map_filename):\n",
    "        # Save Faiss index to file\n",
    "        faiss.write_index(self.index, index_filename)\n",
    "\n",
    "        # Save document map to file using pickle\n",
    "        with open(doc_map_filename, 'wb') as f:\n",
    "            pickle.dump(self.doc_map, f)\n",
    "\n",
    "    def load_index(self, index_filename, doc_map_filename):\n",
    "        # Load Faiss index from file\n",
    "        self.index = faiss.read_index(index_filename)\n",
    "\n",
    "        # Load document map from file using pickle\n",
    "        with open(doc_map_filename, 'rb') as f:\n",
    "            self.doc_map = pickle.load(f)"
   ]
  },
  {
   "cell_type": "code",
   "execution_count": 6,
   "metadata": {},
   "outputs": [],
   "source": [
    "# creating an instance of the class\n",
    "model = semanticEmbedding()"
   ]
  },
  {
   "cell_type": "code",
   "execution_count": 7,
   "metadata": {},
   "outputs": [],
   "source": [
    "index = FaissIdx(model)"
   ]
  },
  {
   "cell_type": "code",
   "execution_count": 8,
   "metadata": {},
   "outputs": [],
   "source": [
    "index.load_index('index.bin', 'doc_map.pkl')"
   ]
  },
  {
   "cell_type": "code",
   "execution_count": 9,
   "metadata": {},
   "outputs": [],
   "source": [
    "import google.generativeai as genai"
   ]
  },
  {
   "cell_type": "code",
   "execution_count": 10,
   "metadata": {},
   "outputs": [],
   "source": [
    "model = genai.GenerativeModel('gemini-pro')"
   ]
  },
  {
   "cell_type": "code",
   "execution_count": 11,
   "metadata": {},
   "outputs": [],
   "source": [
    "genai.configure(api_key=os.environ.get('GOOGLE_API_KEY'))"
   ]
  },
  {
   "cell_type": "code",
   "execution_count": null,
   "metadata": {},
   "outputs": [],
   "source": []
  },
  {
   "cell_type": "markdown",
   "metadata": {},
   "source": [
    "# given the query, run the following code sequentially"
   ]
  },
  {
   "cell_type": "code",
   "execution_count": 21,
   "metadata": {},
   "outputs": [],
   "source": [
    "query = \"Iam kishan from uttarpradesh, and I want subsidy\""
   ]
  },
  {
   "cell_type": "code",
   "execution_count": 23,
   "metadata": {},
   "outputs": [],
   "source": [
    "user_name = 'Kishan'"
   ]
  },
  {
   "cell_type": "code",
   "execution_count": 24,
   "metadata": {},
   "outputs": [],
   "source": [
    "website = 'https://www.india.gov.in/my-government/schemes'"
   ]
  },
  {
   "cell_type": "code",
   "execution_count": 25,
   "metadata": {},
   "outputs": [],
   "source": [
    "query_result = index.search_doc(query)"
   ]
  },
  {
   "cell_type": "code",
   "execution_count": 26,
   "metadata": {},
   "outputs": [],
   "source": [
    "context = ''"
   ]
  },
  {
   "cell_type": "code",
   "execution_count": 31,
   "metadata": {},
   "outputs": [],
   "source": [
    "for i in range(5):\n",
    "    for key, value in query_result[i].items():\n",
    "        if(value>0.23):\n",
    "            context += key + \" \""
   ]
  },
  {
   "cell_type": "code",
   "execution_count": 32,
   "metadata": {},
   "outputs": [
    {
     "data": {
      "text/plain": [
       "\"Supply of Food Grains to Welfare Institutes, Chhattisgarh = Under this scheme, each beneficiary of the welfare institutes of the state is eligible to get 15 Kg food grains every month at BPL rate.Village Grain Bank Scheme by Department of Food and Public Distribution = Get information about the Village Grain Bank Scheme provided by the Department of Food and Public Distribution. The objective of the Scheme is to provide safeguard against starvation during the period of natural calamity or during lean season when the marginalized food insecure households do not have sufficient resources to purchase rations. Users can get details about the eligibility criteria, beneficiary type and benefits of the Scheme. Information on how to avail the Scheme is also provided.Mukhamantri Khadyan Sahayta Yojna, Chhattisgarh = Under this scheme, 35 Kg rice@ Rs.1/kg to 7.66 Lacs State AAY families; 10 kg rice free of cost, to 60,277 destitute ration card holders and 10 kg rice @ rs. 1/kg to 8,194 disabled persons of the state are provided every month.Information on Sanjay Gandhi Niradhar Anudan Yojana = This scheme is applicable to destitute persons of age below 65 years, orphan children, all types of handicapped, person suffering from critical illness like T. B. cancer, AIDS and leprosy, destitute widows including those of farmers who committed suicide, destitute divorced women and women in process of divorce, women freed from prostitution and outraged women.Rajiv Gandhi National Fellowship for providing Scholarships to Scheduled Caste Students to pursue programmes in Higher Education = Find details of the Central Sector Scheme of 'Rajiv Gandhi National Fellowship' for providing Scholarships to Scheduled Caste Students to pursue programmes in Higher Education such as M.Phil. and Ph.D. The scheme is funded by the Central Government and provided by the Ministry of Social Justice and Empowerment. Scheme related details such as eligibility, beneficiary, required documents, application procedure and forms are available. Details of the implementing agency are also provided.Supply of Food Grains to Welfare Institutes, Chhattisgarh = Under this scheme, each beneficiary of the welfare institutes of the state is eligible to get 15 Kg food grains every month at BPL rate. Village Grain Bank Scheme by Department of Food and Public Distribution = Get information about the Village Grain Bank Scheme provided by the Department of Food and Public Distribution. The objective of the Scheme is to provide safeguard against starvation during the period of natural calamity or during lean season when the marginalized food insecure households do not have sufficient resources to purchase rations. Users can get details about the eligibility criteria, beneficiary type and benefits of the Scheme. Information on how to avail the Scheme is also provided. Mukhamantri Khadyan Sahayta Yojna, Chhattisgarh = Under this scheme, 35 Kg rice@ Rs.1/kg to 7.66 Lacs State AAY families; 10 kg rice free of cost, to 60,277 destitute ration card holders and 10 kg rice @ rs. 1/kg to 8,194 disabled persons of the state are provided every month. Information on Sanjay Gandhi Niradhar Anudan Yojana = This scheme is applicable to destitute persons of age below 65 years, orphan children, all types of handicapped, person suffering from critical illness like T. B. cancer, AIDS and leprosy, destitute widows including those of farmers who committed suicide, destitute divorced women and women in process of divorce, women freed from prostitution and outraged women. Rajiv Gandhi National Fellowship for providing Scholarships to Scheduled Caste Students to pursue programmes in Higher Education = Find details of the Central Sector Scheme of 'Rajiv Gandhi National Fellowship' for providing Scholarships to Scheduled Caste Students to pursue programmes in Higher Education such as M.Phil. and Ph.D. The scheme is funded by the Central Government and provided by the Ministry of Social Justice and Empowerment. Scheme related details such as eligibility, beneficiary, required documents, application procedure and forms are available. Details of the implementing agency are also provided. \""
      ]
     },
     "execution_count": 32,
     "metadata": {},
     "output_type": "execute_result"
    }
   ],
   "source": [
    "context"
   ]
  },
  {
   "cell_type": "code",
   "execution_count": 34,
   "metadata": {},
   "outputs": [],
   "source": [
    "content = \"\""
   ]
  },
  {
   "cell_type": "code",
   "execution_count": 35,
   "metadata": {},
   "outputs": [
    {
     "name": "stdout",
     "output_type": "stream",
     "text": [
      "Hello Kishan,\n",
      "\n",
      "Thank you for reaching out! 🌟 Based on the information you provided, here are some government schemes that might be relevant to your situation:\n",
      "\n",
      "1. Mukhamantri Khadyan Sahayta Yojna, Chhattisgarh:\n",
      "   - This scheme provides 35 Kg rice at Rs.1/kg to 7.66 Lacs State AAY families; 10 kg rice free of cost to 60,277 destitute ration card holders and 10 kg rice at Rs. 1/kg to 8,194 disabled persons of the state every month.\n",
      "\n",
      "2. Sanjay Gandhi Niradhar Anudan Yojana:\n",
      "   - This scheme is applicable to destitute persons of age below 65 years, orphan children, all types of handicapped, person suffering from critical illness like T. B., cancer, AIDS, and leprosy, destitute widows (including those of farmers who committed suicide), destitute divorced women and women in the process of divorce, women freed from prostitution, and outraged women.\n",
      "\n",
      "For more detailed information or to apply, you can visit the official [Government Department/Agency] website: https://www.india.gov.in/my-government/schemes.\n",
      "\n",
      "\n",
      "If you have any more questions or need further assistance, feel free to ask!\n",
      "\n",
      "Best regards,\n",
      "GovSevak.\n",
      "\n",
      "*This message is generated by GENAI, GENAI can make mistakes. Consider checking important information.*\n"
     ]
    }
   ],
   "source": [
    "if context == '':\n",
    "    print('Is there anything else I can help you with?')\n",
    "else:\n",
    "    formatted_response = f''' Give response in this format, dont change the format or the links given-: \n",
    "Hello {user_name},\n",
    "\n",
    "Thank you for reaching out! 🌟 Based on the information you provided, here are some government schemes that might be relevant to your situation:\n",
    "\n",
    "1. Scheme Name 1:\n",
    "   - Information like eligibility, benefit.\n",
    "\n",
    "2. Scheme Name 2:\n",
    "   - Information like eligibility, benefit.\n",
    "\n",
    "3. Scheme Name 3:\n",
    "   - Information like eligibility, benefit.\n",
    "\n",
    "4. Scheme Name 4:\n",
    "   - Information like eligibility, benefit.\n",
    "\n",
    "5. Scheme Name 5:\n",
    "   - Information like eligibility, benefit.\n",
    "\n",
    "\n",
    "For more detailed information or to apply, you can visit the official [Government Department/Agency] website: {website}.\n",
    "\n",
    "\n",
    "If you have any more questions or need further assistance, feel free to ask!\n",
    "\n",
    "Best regards,\n",
    "GovSevak.\n",
    "\n",
    "*This message is generated by GENAI, GENAI can make mistakes. Consider checking important information.*\n",
    "\n",
    "QUERY:${query}$ CONTEXT:${context}$'''\n",
    "\n",
    "    response = model.generate_content(formatted_response)\n",
    "    print(response.text)\n",
    "\n"
   ]
  },
  {
   "cell_type": "code",
   "execution_count": 37,
   "metadata": {},
   "outputs": [],
   "source": [
    "import streamlit as st"
   ]
  },
  {
   "cell_type": "code",
   "execution_count": 45,
   "metadata": {},
   "outputs": [
    {
     "name": "stderr",
     "output_type": "stream",
     "text": [
      "2024-03-08 17:09:58.693 \n",
      "  \u001b[33m\u001b[1mWarning:\u001b[0m to view this Streamlit app on a browser, run it with the following\n",
      "  command:\n",
      "\n",
      "    streamlit run c:\\Users\\hp\\Desktop\\NLP-Project\\env\\lib\\site-packages\\ipykernel_launcher.py [ARGUMENTS]\n"
     ]
    },
    {
     "name": "stdout",
     "output_type": "stream",
     "text": [
      "Hello Kishan,\n",
      "\n",
      "Thank you for reaching out! 🌟 Based on the information you provided, here are some government schemes that might be relevant to your situation:\n",
      "\n",
      "1. Village Grain Bank Scheme by Department of Food and Public Distribution:\n",
      "- Eligibility: Marginalized food insecure households\n",
      "- Benefit: Provides safeguard against starvation during natural calamities or lean seasons\n",
      "\n",
      "2. Mukhamantri Khadyan Sahayta Yojna, Chhattisgarh:\n",
      "- Eligibility: AAY families, destitute ration card holders, disabled persons\n",
      "- Benefit: Rice at subsidized rates or free of cost\n",
      "\n",
      "3. Sanjay Gandhi Niradhar Anudan Yojana:\n",
      "- Eligibility: Destitute persons below 65 years, orphans, handicapped, critically ill, destitute widows, divorced women, women freed from prostitution, outraged women\n",
      "- Benefit: Financial assistance\n",
      "\n",
      "For more detailed information or to apply, you can visit the official [Government Department/Agency] website: https://www.india.gov.in/my-government/schemes.\n",
      "\n",
      "\n",
      "If you have any more questions or need further assistance, feel free to ask!\n",
      "\n",
      "Best regards,\n",
      "GovSevak.\n",
      "\n",
      "*This message is generated by GENAI, GENAI can make mistakes. Consider checking important information.*\n"
     ]
    },
    {
     "ename": "AttributeError",
     "evalue": "st.session_state has no attribute \"messages\". Did you forget to initialize it? More info: https://docs.streamlit.io/library/advanced-features/session-state#initialization",
     "output_type": "error",
     "traceback": [
      "\u001b[1;31m---------------------------------------------------------------------------\u001b[0m",
      "\u001b[1;31mKeyError\u001b[0m                                  Traceback (most recent call last)",
      "File \u001b[1;32mc:\\Users\\hp\\Desktop\\NLP-Project\\env\\lib\\site-packages\\streamlit\\runtime\\state\\session_state.py:398\u001b[0m, in \u001b[0;36mSessionState.__getitem__\u001b[1;34m(self, key)\u001b[0m\n\u001b[0;32m    397\u001b[0m \u001b[38;5;28;01mtry\u001b[39;00m:\n\u001b[1;32m--> 398\u001b[0m     \u001b[38;5;28;01mreturn\u001b[39;00m \u001b[38;5;28;43mself\u001b[39;49m\u001b[38;5;241;43m.\u001b[39;49m\u001b[43m_getitem\u001b[49m\u001b[43m(\u001b[49m\u001b[43mwidget_id\u001b[49m\u001b[43m,\u001b[49m\u001b[43m \u001b[49m\u001b[43mkey\u001b[49m\u001b[43m)\u001b[49m\n\u001b[0;32m    399\u001b[0m \u001b[38;5;28;01mexcept\u001b[39;00m \u001b[38;5;167;01mKeyError\u001b[39;00m:\n",
      "File \u001b[1;32mc:\\Users\\hp\\Desktop\\NLP-Project\\env\\lib\\site-packages\\streamlit\\runtime\\state\\session_state.py:443\u001b[0m, in \u001b[0;36mSessionState._getitem\u001b[1;34m(self, widget_id, user_key)\u001b[0m\n\u001b[0;32m    442\u001b[0m \u001b[38;5;66;03m# We'll never get here\u001b[39;00m\n\u001b[1;32m--> 443\u001b[0m \u001b[38;5;28;01mraise\u001b[39;00m \u001b[38;5;167;01mKeyError\u001b[39;00m\n",
      "\u001b[1;31mKeyError\u001b[0m: ",
      "\nDuring handling of the above exception, another exception occurred:\n",
      "\u001b[1;31mKeyError\u001b[0m                                  Traceback (most recent call last)",
      "File \u001b[1;32mc:\\Users\\hp\\Desktop\\NLP-Project\\env\\lib\\site-packages\\streamlit\\runtime\\state\\session_state_proxy.py:119\u001b[0m, in \u001b[0;36mSessionStateProxy.__getattr__\u001b[1;34m(self, key)\u001b[0m\n\u001b[0;32m    118\u001b[0m \u001b[38;5;28;01mtry\u001b[39;00m:\n\u001b[1;32m--> 119\u001b[0m     \u001b[38;5;28;01mreturn\u001b[39;00m \u001b[38;5;28;43mself\u001b[39;49m\u001b[43m[\u001b[49m\u001b[43mkey\u001b[49m\u001b[43m]\u001b[49m\n\u001b[0;32m    120\u001b[0m \u001b[38;5;28;01mexcept\u001b[39;00m \u001b[38;5;167;01mKeyError\u001b[39;00m:\n",
      "File \u001b[1;32mc:\\Users\\hp\\Desktop\\NLP-Project\\env\\lib\\site-packages\\streamlit\\runtime\\state\\session_state_proxy.py:90\u001b[0m, in \u001b[0;36mSessionStateProxy.__getitem__\u001b[1;34m(self, key)\u001b[0m\n\u001b[0;32m     89\u001b[0m require_valid_user_key(key)\n\u001b[1;32m---> 90\u001b[0m \u001b[38;5;28;01mreturn\u001b[39;00m \u001b[43mget_session_state\u001b[49m\u001b[43m(\u001b[49m\u001b[43m)\u001b[49m\u001b[43m[\u001b[49m\u001b[43mkey\u001b[49m\u001b[43m]\u001b[49m\n",
      "File \u001b[1;32mc:\\Users\\hp\\Desktop\\NLP-Project\\env\\lib\\site-packages\\streamlit\\runtime\\state\\safe_session_state.py:93\u001b[0m, in \u001b[0;36mSafeSessionState.__getitem__\u001b[1;34m(self, key)\u001b[0m\n\u001b[0;32m     92\u001b[0m \u001b[38;5;28;01mwith\u001b[39;00m \u001b[38;5;28mself\u001b[39m\u001b[38;5;241m.\u001b[39m_lock:\n\u001b[1;32m---> 93\u001b[0m     \u001b[38;5;28;01mreturn\u001b[39;00m \u001b[38;5;28;43mself\u001b[39;49m\u001b[38;5;241;43m.\u001b[39;49m\u001b[43m_state\u001b[49m\u001b[43m[\u001b[49m\u001b[43mkey\u001b[49m\u001b[43m]\u001b[49m\n",
      "File \u001b[1;32mc:\\Users\\hp\\Desktop\\NLP-Project\\env\\lib\\site-packages\\streamlit\\runtime\\state\\session_state.py:400\u001b[0m, in \u001b[0;36mSessionState.__getitem__\u001b[1;34m(self, key)\u001b[0m\n\u001b[0;32m    399\u001b[0m \u001b[38;5;28;01mexcept\u001b[39;00m \u001b[38;5;167;01mKeyError\u001b[39;00m:\n\u001b[1;32m--> 400\u001b[0m     \u001b[38;5;28;01mraise\u001b[39;00m \u001b[38;5;167;01mKeyError\u001b[39;00m(_missing_key_error_message(key))\n",
      "\u001b[1;31mKeyError\u001b[0m: 'st.session_state has no key \"messages\". Did you forget to initialize it? More info: https://docs.streamlit.io/library/advanced-features/session-state#initialization'",
      "\nDuring handling of the above exception, another exception occurred:\n",
      "\u001b[1;31mAttributeError\u001b[0m                            Traceback (most recent call last)",
      "Cell \u001b[1;32mIn[45], line 75\u001b[0m\n\u001b[0;32m     67\u001b[0m         st\u001b[38;5;241m.\u001b[39msession_state\u001b[38;5;241m.\u001b[39mmessages\u001b[38;5;241m.\u001b[39mappend(\n\u001b[0;32m     68\u001b[0m             {\n\u001b[0;32m     69\u001b[0m                 \u001b[38;5;124m'\u001b[39m\u001b[38;5;124mrole\u001b[39m\u001b[38;5;124m'\u001b[39m:\u001b[38;5;124m'\u001b[39m\u001b[38;5;124massitant\u001b[39m\u001b[38;5;124m'\u001b[39m,\n\u001b[0;32m     70\u001b[0m                 \u001b[38;5;124m'\u001b[39m\u001b[38;5;124mcontent\u001b[39m\u001b[38;5;124m'\u001b[39m:response\u001b[38;5;241m.\u001b[39mtext\n\u001b[0;32m     71\u001b[0m             }\n\u001b[0;32m     72\u001b[0m         )\n\u001b[0;32m     74\u001b[0m \u001b[38;5;28;01mif\u001b[39;00m query:\n\u001b[1;32m---> 75\u001b[0m     \u001b[43mllm_function\u001b[49m\u001b[43m(\u001b[49m\u001b[43mquery\u001b[49m\u001b[43m)\u001b[49m\n",
      "Cell \u001b[1;32mIn[45], line 61\u001b[0m, in \u001b[0;36mllm_function\u001b[1;34m(query)\u001b[0m\n\u001b[0;32m     59\u001b[0m \u001b[38;5;28;01mwith\u001b[39;00m st\u001b[38;5;241m.\u001b[39mchat_message(\u001b[38;5;124m'\u001b[39m\u001b[38;5;124massistant\u001b[39m\u001b[38;5;124m'\u001b[39m):\n\u001b[0;32m     60\u001b[0m     st\u001b[38;5;241m.\u001b[39mmarkdown(response\u001b[38;5;241m.\u001b[39mtext)\n\u001b[1;32m---> 61\u001b[0m \u001b[43mst\u001b[49m\u001b[38;5;241;43m.\u001b[39;49m\u001b[43msession_state\u001b[49m\u001b[38;5;241;43m.\u001b[39;49m\u001b[43mmessages\u001b[49m\u001b[38;5;241m.\u001b[39mappend(\n\u001b[0;32m     62\u001b[0m     {\n\u001b[0;32m     63\u001b[0m         \u001b[38;5;124m'\u001b[39m\u001b[38;5;124mrole\u001b[39m\u001b[38;5;124m'\u001b[39m:\u001b[38;5;124m'\u001b[39m\u001b[38;5;124muser\u001b[39m\u001b[38;5;124m'\u001b[39m,\n\u001b[0;32m     64\u001b[0m         \u001b[38;5;124m'\u001b[39m\u001b[38;5;124mcontent\u001b[39m\u001b[38;5;124m'\u001b[39m:Query\n\u001b[0;32m     65\u001b[0m     }\n\u001b[0;32m     66\u001b[0m )\n\u001b[0;32m     67\u001b[0m st\u001b[38;5;241m.\u001b[39msession_state\u001b[38;5;241m.\u001b[39mmessages\u001b[38;5;241m.\u001b[39mappend(\n\u001b[0;32m     68\u001b[0m     {\n\u001b[0;32m     69\u001b[0m         \u001b[38;5;124m'\u001b[39m\u001b[38;5;124mrole\u001b[39m\u001b[38;5;124m'\u001b[39m:\u001b[38;5;124m'\u001b[39m\u001b[38;5;124massitant\u001b[39m\u001b[38;5;124m'\u001b[39m,\n\u001b[0;32m     70\u001b[0m         \u001b[38;5;124m'\u001b[39m\u001b[38;5;124mcontent\u001b[39m\u001b[38;5;124m'\u001b[39m:response\u001b[38;5;241m.\u001b[39mtext\n\u001b[0;32m     71\u001b[0m     }\n\u001b[0;32m     72\u001b[0m )\n",
      "File \u001b[1;32mc:\\Users\\hp\\Desktop\\NLP-Project\\env\\lib\\site-packages\\streamlit\\runtime\\state\\session_state_proxy.py:121\u001b[0m, in \u001b[0;36mSessionStateProxy.__getattr__\u001b[1;34m(self, key)\u001b[0m\n\u001b[0;32m    119\u001b[0m     \u001b[38;5;28;01mreturn\u001b[39;00m \u001b[38;5;28mself\u001b[39m[key]\n\u001b[0;32m    120\u001b[0m \u001b[38;5;28;01mexcept\u001b[39;00m \u001b[38;5;167;01mKeyError\u001b[39;00m:\n\u001b[1;32m--> 121\u001b[0m     \u001b[38;5;28;01mraise\u001b[39;00m \u001b[38;5;167;01mAttributeError\u001b[39;00m(_missing_attr_error_message(key))\n",
      "\u001b[1;31mAttributeError\u001b[0m: st.session_state has no attribute \"messages\". Did you forget to initialize it? More info: https://docs.streamlit.io/library/advanced-features/session-state#initialization"
     ]
    }
   ],
   "source": [
    "# if 'messages' not in st.session_state:\n",
    "#     st.session_state.messages=[\n",
    "#         {\n",
    "#             \"role\":\"assistant\",\n",
    "#             \"content\":\"Ask me anything\"\n",
    "#         }\n",
    "#     ]\n",
    "# for message in st.session_state.messages:\n",
    "#     with st.chat_message(message[\"role\"]):\n",
    "#         st.markdown(message[\"content\"])\n",
    "def llm_function(query):\n",
    "    query_result = index.search_doc(query)\n",
    "    context = \"\"\n",
    "    for i in range(5):\n",
    "        for key, value in query_result[i].items():\n",
    "            if(value>0.23):\n",
    "                context += key + \" \"\n",
    "    if context == '':\n",
    "        print('Is there anything else I can help you with?')\n",
    "        return \n",
    "    else:\n",
    "        formatted_response = f''' Give response in this format, dont change the format or the links given-: \n",
    "        Hello {user_name},\n",
    "\n",
    "        Thank you for reaching out! 🌟 Based on the information you provided, here are some government schemes that might be relevant to your situation:\n",
    "\n",
    "        1. Scheme Name 1:\n",
    "        - Information like eligibility, benefit.\n",
    "\n",
    "        2. Scheme Name 2:\n",
    "        - Information like eligibility, benefit.\n",
    "\n",
    "        3. Scheme Name 3:\n",
    "        - Information like eligibility, benefit.\n",
    "\n",
    "        4. Scheme Name 4:\n",
    "        - Information like eligibility, benefit.\n",
    "\n",
    "        5. Scheme Name 5:\n",
    "        - Information like eligibility, benefit.\n",
    "\n",
    "\n",
    "        For more detailed information or to apply, you can visit the official [Government Department/Agency] website: {website}.\n",
    "\n",
    "\n",
    "        If you have any more questions or need further assistance, feel free to ask!\n",
    "\n",
    "        Best regards,\n",
    "        GovSevak.\n",
    "\n",
    "        *This message is generated by GENAI, GENAI can make mistakes. Consider checking important information.*\n",
    "\n",
    "        QUERY:${query}$ CONTEXT:${context}$'''\n",
    "\n",
    "        response = model.generate_content(formatted_response)\n",
    "        print(response.text)\n",
    "        with st.chat_message('user'):\n",
    "            st.markdown(query)\n",
    "        with st.chat_message('assistant'):\n",
    "            st.markdown(response.text)\n",
    "        st.session_state.messages.append(\n",
    "            {\n",
    "                'role':'user',\n",
    "                'content':Query\n",
    "            }\n",
    "        )\n",
    "        st.session_state.messages.append(\n",
    "            {\n",
    "                'role':'assitant',\n",
    "                'content':response.text\n",
    "            }\n",
    "        )\n",
    "    \n",
    "if query:\n",
    "    llm_function(query)\n",
    "    "
   ]
  },
  {
   "cell_type": "code",
   "execution_count": null,
   "metadata": {},
   "outputs": [],
   "source": []
  },
  {
   "cell_type": "code",
   "execution_count": null,
   "metadata": {},
   "outputs": [],
   "source": [
    "import streamlit as st\n",
    "import os\n",
    "import google.generativeai as genai\n",
    "genai.configure(api_key=os.environ.get('GOOGLE_API_KEY'))\n",
    "model = genai.GenerativeModel('gemini-pro')\n",
    "#initiate the chathistory\n",
    "if 'messages' not in st.session_state:\n",
    "    st.session_state.messages=[\n",
    "        {\n",
    "            \"role\":\"assistant\",\n",
    "            \"content\":\"Ask me anything\"\n",
    "        }\n",
    "    ]\n",
    "# Displying chathistory on restart.\n",
    "for message in st.session_state.messages:\n",
    "    with st.chat_message(message[\"role\"]):\n",
    "        st.markdown(message[\"content\"])\n",
    "# Process, display and store query and response.\n",
    "def llm_function(Query):\n",
    "    response = model.generate_content(Query)\n",
    "    # Displaying users message and assistant response as well.\n",
    "    with st.chat_message('user'):\n",
    "        st.markdown(Query)\n",
    "    with st.chat_message('assistant'):\n",
    "        st.markdown(response.text)\n",
    "    # Storing user message and query\n",
    "    st.session_state.messages.append(\n",
    "        {\n",
    "            'role':'user',\n",
    "            'content':Query\n",
    "        }\n",
    "    )\n",
    "    st.session_state.messages.append(\n",
    "        {\n",
    "            'role':'assitant',\n",
    "            'content':response.text\n",
    "        }\n",
    "    )\n",
    "query = st.chat_input(\"hey hey what's up big boi\")\n",
    "if query:\n",
    "    llm_function(query)"
   ]
  },
  {
   "cell_type": "code",
   "execution_count": null,
   "metadata": {},
   "outputs": [],
   "source": []
  }
 ],
 "metadata": {
  "kernelspec": {
   "display_name": "env",
   "language": "python",
   "name": "python3"
  },
  "language_info": {
   "codemirror_mode": {
    "name": "ipython",
    "version": 3
   },
   "file_extension": ".py",
   "mimetype": "text/x-python",
   "name": "python",
   "nbconvert_exporter": "python",
   "pygments_lexer": "ipython3",
   "version": "3.10.7"
  }
 },
 "nbformat": 4,
 "nbformat_minor": 2
}
