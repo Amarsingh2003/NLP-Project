{
 "cells": [
  {
   "cell_type": "code",
   "execution_count": 1,
   "metadata": {},
   "outputs": [
    {
     "name": "stderr",
     "output_type": "stream",
     "text": [
      "m:\\Third Year\\Sixth Semester\\Projects\\NLP-Project\\env\\Lib\\site-packages\\tqdm\\auto.py:21: TqdmWarning: IProgress not found. Please update jupyter and ipywidgets. See https://ipywidgets.readthedocs.io/en/stable/user_install.html\n",
      "  from .autonotebook import tqdm as notebook_tqdm\n"
     ]
    }
   ],
   "source": [
    "from transformers import AutoTokenizer, AutoModel\n",
    "import torch\n",
    "import torch.nn.functional as F"
   ]
  },
  {
   "cell_type": "code",
   "execution_count": 2,
   "metadata": {},
   "outputs": [],
   "source": [
    "import faiss \n",
    "import numpy as np\n",
    "import pickle"
   ]
  },
  {
   "cell_type": "code",
   "execution_count": 3,
   "metadata": {},
   "outputs": [],
   "source": [
    "import os\n",
    "os.environ['KMP_DUPLICATE_LIB_OK']='True'"
   ]
  },
  {
   "cell_type": "code",
   "execution_count": 4,
   "metadata": {},
   "outputs": [],
   "source": [
    "class semanticEmbedding:\n",
    "    def __init__(self, model_name='sentence-transformers/all-mpnet-base-v2'):\n",
    "        self.tokenizer = AutoTokenizer.from_pretrained(model_name)\n",
    "        self.model = AutoModel.from_pretrained(model_name)\n",
    "\n",
    "    def mean_pooling(self, model_output, attention_mask):\n",
    "        token_embeddings = model_output[0] #First element of model_output contains all token embeddings\n",
    "        input_mask_expanded = attention_mask.unsqueeze(-1).expand(token_embeddings.size()).float()\n",
    "        return torch.sum(token_embeddings * input_mask_expanded, 1) / torch.clamp(input_mask_expanded.sum(1), min=1e-9)\n",
    "    def get_embedding(self, sentences):\n",
    "    # Tokenize sentences\n",
    "        encoded_input = self.tokenizer(sentences, padding=True, truncation=True, return_tensors='pt')\n",
    "        with torch.no_grad():\n",
    "            model_output = self.model(**encoded_input)\n",
    "        # Perform pooling\n",
    "        sentence_embeddings = self.mean_pooling(model_output, encoded_input['attention_mask'])\n",
    "\n",
    "        # Normalize embeddings\n",
    "        sentence_embeddings = F.normalize(sentence_embeddings, p=2, dim=1)\n",
    "        return sentence_embeddings.detach().numpy()"
   ]
  },
  {
   "cell_type": "code",
   "execution_count": 5,
   "metadata": {},
   "outputs": [],
   "source": [
    "class FaissIdx:\n",
    "\n",
    "    def __init__(self, model, dim=768):\n",
    "        self.index = faiss.IndexFlatIP(dim) # need to load the pickle model in the final file\n",
    "        # self.index = faiss\n",
    "        # Maintaining the document data\n",
    "        self.doc_map = dict()\n",
    "        self.model = model\n",
    "        self.ctr = 0\n",
    "\n",
    "    def add_doc(self, document_text):\n",
    "        self.index.add(self.model.get_embedding(document_text))\n",
    "        self.doc_map[self.ctr] = document_text # store the original document text\n",
    "        self.ctr += 1\n",
    "\n",
    "    def search_doc(self, query, k=3):\n",
    "        D, I = self.index.search(self.model.get_embedding(query), 5)\n",
    "        return [{self.doc_map[idx]: score} for idx, score in zip(I[0], D[0]) if idx in self.doc_map]\n",
    "    def save_index(self, index_filename, doc_map_filename):\n",
    "        # Save Faiss index to file\n",
    "        faiss.write_index(self.index, index_filename)\n",
    "\n",
    "        # Save document map to file using pickle\n",
    "        with open(doc_map_filename, 'wb') as f:\n",
    "            pickle.dump(self.doc_map, f)\n",
    "\n",
    "    def load_index(self, index_filename, doc_map_filename):\n",
    "        # Load Faiss index from file\n",
    "        self.index = faiss.read_index(index_filename)\n",
    "\n",
    "        # Load document map from file using pickle\n",
    "        with open(doc_map_filename, 'rb') as f:\n",
    "            self.doc_map = pickle.load(f)"
   ]
  },
  {
   "cell_type": "code",
   "execution_count": 6,
   "metadata": {},
   "outputs": [],
   "source": [
    "# creating an instance of the class\n",
    "model = semanticEmbedding()"
   ]
  },
  {
   "cell_type": "code",
   "execution_count": 7,
   "metadata": {},
   "outputs": [],
   "source": [
    "index = FaissIdx(model)"
   ]
  },
  {
   "cell_type": "code",
   "execution_count": 8,
   "metadata": {},
   "outputs": [],
   "source": [
    "index.load_index('index.bin', 'doc_map.pkl')"
   ]
  },
  {
   "cell_type": "code",
   "execution_count": 9,
   "metadata": {},
   "outputs": [],
   "source": [
    "import google.generativeai as genai"
   ]
  },
  {
   "cell_type": "code",
   "execution_count": 10,
   "metadata": {},
   "outputs": [],
   "source": [
    "genai.configure(api_key=os.environ.get('GOOGLE_API_KEY'))"
   ]
  },
  {
   "cell_type": "code",
   "execution_count": 11,
   "metadata": {},
   "outputs": [],
   "source": [
    "model = genai.GenerativeModel('gemini-pro')"
   ]
  },
  {
   "cell_type": "markdown",
   "metadata": {},
   "source": [
    "# given the query, run the following code sequentially"
   ]
  },
  {
   "cell_type": "code",
   "execution_count": 12,
   "metadata": {},
   "outputs": [],
   "source": [
<<<<<<< HEAD
    "query = \"I want to improve the situtaion of rural womens\""
   ]
  },
  {
   "cell_type": "code",
   "execution_count": 26,
   "metadata": {},
   "outputs": [],
   "source": [
    "user_name = 'Amar'"
=======
    "query = \"I want to improve the situtaion of poor womens\""
>>>>>>> MLmodel
   ]
  },
  {
   "cell_type": "code",
   "execution_count": 13,
   "metadata": {},
   "outputs": [],
   "source": [
<<<<<<< HEAD
    "query_result = index.search_doc(query)"
=======
    "user_name = 'Amar'"
>>>>>>> MLmodel
   ]
  },
  {
   "cell_type": "code",
   "execution_count": 14,
   "metadata": {},
   "outputs": [],
   "source": [
<<<<<<< HEAD
    "context = ''"
=======
    "query_result = index.search_doc(query)"
>>>>>>> MLmodel
   ]
  },
  {
   "cell_type": "code",
   "execution_count": 15,
   "metadata": {},
   "outputs": [],
   "source": [
<<<<<<< HEAD
=======
    "context = ''"
   ]
  },
  {
   "cell_type": "code",
   "execution_count": 16,
   "metadata": {},
   "outputs": [],
   "source": [
>>>>>>> MLmodel
    "for i in range(5):\n",
    "    for key, value in query_result[i].items():\n",
    "        if(value>0.23):\n",
    "            context += key"
   ]
  },
  {
   "cell_type": "code",
<<<<<<< HEAD
   "execution_count": 16,
=======
   "execution_count": 17,
>>>>>>> MLmodel
   "metadata": {},
   "outputs": [
    {
     "data": {
      "text/plain": [
<<<<<<< HEAD
       "'Information on Mahila Samakhya Programme by Department of School Education and Literacy = Mahila Samakhya Programme was launched for the education and empowerment of women in rural areas. Users can get information about Mahila Samakhya Programme like funding pattern, genesis, expansion & coverage and plan document. Details of women mobilisation and programme agendas and role of the National Resource Group of Mahila Samakhya are provided. Information about National Evaluation - Executive Summary in different states are also provided. Links to other Mahila Samakhya Sites are provided.Women Empowerment Scheme, Ministry of Women & Child Development = Get Information on Women Empowerment Scheme provided by the Ministry of Women & Child Development. Ministry of Women and Child Development, Government of India have come up with various schemes, programmes, social welfare schemes, Health and Nutrition, scholarship for women empowerment, Girl Child pregnant women, mothers, ward members, Anganwadi Workers, Women Health Volunteers, the women living in the rural & tribal areas, ex-servicemen, physically handicapped, nursing women, Lactating mother, widows/destitute, Old age women, women self-help group (SHG), Women Entrepreneurs and...Website of Nai Roshni, Ministry of Minority Affairs = The objective of the scheme is to empower and instill confidence among minority women, including their neighbours from other communities living in the same village/locality, by providing knowledge, tools and techniques for interacting with Government systems, banks and other institutions at all levels.Information on Hunnar Scheme, Jammu and Kashmir = Training cum skill development scheme for poor girls.Promotion and support of Women Self Help Groups in Backward Districts of India = Promotion and support of women self help groups in backward districts of India scheme by Department of Financial Services aims to promote women Self Help Groups (SHGs) in selected districts of the country through identified NGOs or other support organisations.'"
      ]
     },
     "execution_count": 16,
=======
       "'Women Empowerment Scheme, Ministry of Women & Child Development = Get Information on Women Empowerment Scheme provided by the Ministry of Women & Child Development. Ministry of Women and Child Development, Government of India have come up with various schemes, programmes, social welfare schemes, Health and Nutrition, scholarship for women empowerment, Girl Child pregnant women, mothers, ward members, Anganwadi Workers, Women Health Volunteers, the women living in the rural & tribal areas, ex-servicemen, physically handicapped, nursing women, Lactating mother, widows/destitute, Old age women, women self-help group (SHG), Women Entrepreneurs and...Information on Mahila Samakhya Programme by Department of School Education and Literacy = Mahila Samakhya Programme was launched for the education and empowerment of women in rural areas. Users can get information about Mahila Samakhya Programme like funding pattern, genesis, expansion & coverage and plan document. Details of women mobilisation and programme agendas and role of the National Resource Group of Mahila Samakhya are provided. Information about National Evaluation - Executive Summary in different states are also provided. Links to other Mahila Samakhya Sites are provided.Schemes for welfare of backward classes by Ministry of Social Justice and Empowerment = Information about schemes and programmes for the welfare of backward classes by Ministry of Social Justice and Empowerment. Information about pre-matric and post-matric scholarships, centrally sponsored schemes of construction of hostels, assistance to voluntary organisations working for welfare of OBCs, etc are available. Information on National Backward Classes Finance and Development Corporation (NBCFDC), state-wise and scheme-wise expenditure under the pre-Matric and post-Matric and hostels for OBCs and contact details of concerned officers for queries can also be obtained.Grant-in-Aid for Research, Publication and Monitoring = The projects sponsored by the Department of Women & Child Development will be in the fields of welfare and development of women and children including Food and Nutrition aspects.Child Protection & Welfare Schemes, Ministry of Women & Child Development = Get Information on Child Protection & Welfare Schemes provided by the Ministry of Women & Child Development. Ministry of Women and Child Development, Government of India have come up with various schemes, programmes, social welfare schemes, Health and Nutrition, scholarship for women empowerment, Girl Child pregnant women, mothers, ward members, Anganwadi Workers, Women Health Volunteers, the women living in the rural & tribal areas, ex-servicemen, physically handicapped, nursing women, Lactating mother, widows/destitute, Old age women, women self-help group (SHG), Women...'"
      ]
     },
     "execution_count": 17,
>>>>>>> MLmodel
     "metadata": {},
     "output_type": "execute_result"
    }
   ],
   "source": [
    "context"
   ]
  },
  {
   "cell_type": "code",
<<<<<<< HEAD
   "execution_count": 17,
=======
   "execution_count": 18,
>>>>>>> MLmodel
   "metadata": {},
   "outputs": [],
   "source": [
    "content = \"\""
   ]
  },
  {
   "cell_type": "code",
<<<<<<< HEAD
   "execution_count": 27,
   "metadata": {},
   "outputs": [],
   "source": [
    "if context == '':\n",
    "    print('Is there anything else I can help you with')\n",
    "else:\n",
    "    content = f'''Use this query and context and respond In this format Hello [{user_name}],\n",
    "\n",
    "Thank you for reaching out! 🌟 Based on the information you provided, here are some government schemes that might be relevant to your situation:\n",
    "\n",
    "1. [Scheme Name 1]:\n",
    "   - Information like eligibility, benifit, how to apply link.\n",
    "\n",
    "2. [Scheme Name 2]:\n",
    "   - Information like eligibility, benifit, how to apply link.\n",
    "\n",
    "3. [Scheme Name 2]:\n",
    "   - Information like eligibility, benifit, how to apply link.\n",
    "\n",
    "4. [Scheme Name 2]:\n",
    "   - Information like eligibility, benifit, how to apply link.\n",
    "\n",
    "5. [Scheme Name 2]:\n",
    "   - Information like eligibility, benifit, how to apply link.\n",
    "\n",
    "\n",
    "If you have any more questions or need further assistance, feel free to ask!\n",
    "\n",
    "Best regards,\n",
    "GovSevak.\n",
    "\n",
    "*This message is generated by GENAI, GENAI can make mistakes. Consider checking important information.*\n",
    "\n",
    "\n",
    "\n",
    "QUERY:{query} CONTEXT:{context}'''"
   ]
  },
  {
   "cell_type": "code",
   "execution_count": 28,
   "metadata": {},
   "outputs": [
    {
     "data": {
      "text/plain": [
       "'Use this query and context and respond In this format Hello [Amar],\\n\\nThank you for reaching out! 🌟 Based on the information you provided, here are some government schemes that might be relevant to your situation:\\n\\n1. [Scheme Name 1]:\\n   - Information like eligibility, benifit, how to apply. If given in context.\\n\\n2. [Scheme Name 2]:\\n   - Information like eligibility, benifit, how to apply. If given in context.\\n\\n3. [Scheme Name 2]:\\n   - Information like eligibility, benifit, how to apply. If given in context.\\n\\n4. [Scheme Name 2]:\\n   - Information like eligibility, benifit, how to apply. If given in context.\\n\\n5. [Scheme Name 2]:\\n   - Information like eligibility, benifit, how to apply. If given in context.\\n\\nFor more detailed information or to apply, you can visit the official [Government Department/Agency] website: [Link].\\n\\nIf you have any more questions or need further assistance, feel free to ask!\\n\\nBest regards,\\nGovSevak.\\n\\n*This message is generated by GENAI, GENAI can make mistakes. Consider checking important information.*\\n . QUERY:I want to improve the situtaion of rural womens CONTEXT:Information on Mahila Samakhya Programme by Department of School Education and Literacy = Mahila Samakhya Programme was launched for the education and empowerment of women in rural areas. Users can get information about Mahila Samakhya Programme like funding pattern, genesis, expansion & coverage and plan document. Details of women mobilisation and programme agendas and role of the National Resource Group of Mahila Samakhya are provided. Information about National Evaluation - Executive Summary in different states are also provided. Links to other Mahila Samakhya Sites are provided.Women Empowerment Scheme, Ministry of Women & Child Development = Get Information on Women Empowerment Scheme provided by the Ministry of Women & Child Development. Ministry of Women and Child Development, Government of India have come up with various schemes, programmes, social welfare schemes, Health and Nutrition, scholarship for women empowerment, Girl Child pregnant women, mothers, ward members, Anganwadi Workers, Women Health Volunteers, the women living in the rural & tribal areas, ex-servicemen, physically handicapped, nursing women, Lactating mother, widows/destitute, Old age women, women self-help group (SHG), Women Entrepreneurs and...Website of Nai Roshni, Ministry of Minority Affairs = The objective of the scheme is to empower and instill confidence among minority women, including their neighbours from other communities living in the same village/locality, by providing knowledge, tools and techniques for interacting with Government systems, banks and other institutions at all levels.Information on Hunnar Scheme, Jammu and Kashmir = Training cum skill development scheme for poor girls.Promotion and support of Women Self Help Groups in Backward Districts of India = Promotion and support of women self help groups in backward districts of India scheme by Department of Financial Services aims to promote women Self Help Groups (SHGs) in selected districts of the country through identified NGOs or other support organisations.'"
      ]
     },
     "execution_count": 28,
     "metadata": {},
     "output_type": "execute_result"
    }
   ],
   "source": [
    "content"
   ]
  },
  {
   "cell_type": "code",
   "execution_count": 29,
   "metadata": {},
   "outputs": [],
   "source": [
    "response = model.generate_content(content)"
   ]
  },
  {
   "cell_type": "code",
   "execution_count": 30,
=======
   "execution_count": 24,
>>>>>>> MLmodel
   "metadata": {},
   "outputs": [
    {
     "name": "stdout",
     "output_type": "stream",
     "text": [
<<<<<<< HEAD
      "Hello Amar,\n",
      "\n",
      "Thank you for reaching out! 🌟 Based on the information you provided, here are some government schemes that might be relevant to your situation:\n",
      "\n",
      "1. **Mahila Samakhya Programme** by Department of School Education and Literacy:\n",
      "   - Eligibility: Rural women\n",
      "   - Benefit: Education and empowerment of rural women\n",
      "   - How to apply: Visit the official Mahila Samakhya website: [Link]\n",
      "\n",
      "2. **Women Empowerment Scheme** by Ministry of Women & Child Development:\n",
      "   - Eligibility: Women in rural and tribal areas, ex-servicemen, physically handicapped, nursing women, widows/destitute, old age women, women self-help groups (SHGs), women entrepreneurs\n",
      "   - Benefit: Various schemes and programs for women empowerment\n",
      "   - How to apply: Visit the official Ministry of Women & Child Development website: [Link]\n",
      "\n",
      "3. **Nai Roshni** by Ministry of Minority Affairs:\n",
      "   - Eligibility: Minority women and their neighbors from other communities\n",
      "   - Benefit: Knowledge, tools, and techniques for interacting with government systems, banks, and other institutions\n",
      "   - How to apply: Visit the official Nai Roshni website: [Link]\n",
      "\n",
      "For more detailed information or to apply, you can visit the official websites provided in the scheme descriptions.\n",
      "\n",
      "If you have any more questions or need further assistance, feel free to ask!\n",
      "\n",
      "Best regards,\n",
      "GovSevak.\n",
      "\n",
      "*This message is generated by GENAI, GENAI can make mistakes. Consider checking important information.*\n"
=======
      "```Hello Amar,\n",
      "\n",
      "Thank you for reaching out! 🌟 Based on the information you provided, here are some government schemes that might be relevant to your situation:\n",
      "\n",
      "      1. [Women Empowerment Scheme, Ministry of Women & Child Development]\n",
      "         - **Information:** \n",
      "            - This scheme focuses on promoting the empowerment of women by providing them with various opportunities for education, skill development, and employment.\n",
      "            - The scheme offers scholarships, training programs, and financial assistance to women from all backgrounds.\n",
      "            - The link to the official website is provided below:\n",
      "              - [https://www.wcd.nic.in/schemes-women]\n",
      "\n",
      "      2. [Mahila Samakhya Programme, Department of School Education and Literacy]\n",
      "         - **Information:**\n",
      "            - This program was launched to provide access to education and other opportunities for women living in rural areas.\n",
      "            - The program offers literacy classes, vocational training, and microfinance services to help women improve their economic and social status.\n",
      "            - The link to the official website is provided below:\n",
      "              - [https://www.mahila-samakhya.in/]\n",
      "\n",
      "      3. [Schemes for welfare of backward classes by Ministry of Social Justice and Empowerment]\n",
      "         - **Information:**\n",
      "            - This scheme provides scholarships, hostels, and other forms of financial assistance to students from backward classes.\n",
      "            - The scheme also offers support to voluntary organizations working for the welfare of backward classes.\n",
      "            - The link to the official website is provided below:\n",
      "              - [https://socialjustice.nic.in/en]\n",
      "\n",
      "      4. [Grant-in-Aid for Research, Publication and Monitoring, Department of Women & Child Development]\n",
      "         - **Information:**\n",
      "            - This scheme provides grants to researchers and organizations working in the field of women and child development.\n",
      "            - The grants can be used to support research, publication, and monitoring activities.\n",
      "            - The link to the official website is provided below:\n",
      "              - [https://wcd.nic.in/en]\n",
      "\n",
      "      5. [Child Protection & Welfare Schemes, Ministry of Women & Child Development]\n",
      "         - **Information:**\n",
      "            - This scheme provides a range of services for the protection and well-being of children, including childcare, adoption, and juvenile justice.\n",
      "            - The scheme offers support to families, communities, and organizations working for the welfare of children.\n",
      "            - The link to the official website is provided below:\n",
      "              - [https://wcd.nic.in/en/child-protection]\n",
      "\n",
      "\n",
      "      If you have any more questions or need further assistance, feel free to ask!\n",
      "\n",
      "      Best regards,\n",
      "      GovSevak.\n",
      "\n",
      "      *This message is generated by GENAI, GENAI can make mistakes. Consider checking important information.*```\n"
>>>>>>> MLmodel
     ]
    }
   ],
   "source": [
<<<<<<< HEAD
    "print(response.text)"
=======
    "if context == '':\n",
    "   print('Is there anything else I can help you with')\n",
    "else:\n",
    "   content = f'''Use this query and context and respond In this format.\n",
    "\n",
    "      Format is given in triple bacticks and query and context is given in the last portion with Dollar sign around them\n",
    "   \n",
    "      ```Hello {user_name},\n",
    "\n",
    "      Thank you for reaching out! 🌟 Based on the information you provided, here are some government schemes that might be relevant to your situation:\n",
    "\n",
    "      1. [Scheme Name 1]:\n",
    "         - Information like eligibility, benifit, how to apply link.\n",
    "\n",
    "      2. [Scheme Name 2]:\n",
    "         - Information like eligibility, benifit, how to apply link.\n",
    "\n",
    "      3. [Scheme Name 2]:\n",
    "         - Information like eligibility, benifit, how to apply link.\n",
    "\n",
    "      4. [Scheme Name 2]:\n",
    "         - Information like eligibility, benifit, how to apply link.\n",
    "\n",
    "      5. [Scheme Name 2]:\n",
    "         - Information like eligibility, benifit, how to apply link.\n",
    "\n",
    "\n",
    "      If you have any more questions or need further assistance, feel free to ask!\n",
    "\n",
    "      Best regards,\n",
    "      GovSevak.\n",
    "\n",
    "      *This message is generated by GENAI, GENAI can make mistakes. Consider checking important information.*```\n",
    "\n",
    "\n",
    "\n",
    "      QUERY:${query}$ CONTEXT:${context}$'''\n",
    "   response = model.generate_content(content)\n",
    "   print(response.text)\n"
>>>>>>> MLmodel
   ]
  },
  {
   "cell_type": "code",
   "execution_count": null,
   "metadata": {},
   "outputs": [],
   "source": []
  }
 ],
 "metadata": {
  "kernelspec": {
   "display_name": "env",
   "language": "python",
   "name": "python3"
  },
  "language_info": {
   "codemirror_mode": {
    "name": "ipython",
    "version": 3
   },
   "file_extension": ".py",
   "mimetype": "text/x-python",
   "name": "python",
   "nbconvert_exporter": "python",
   "pygments_lexer": "ipython3",
   "version": "3.11.5"
  }
 },
 "nbformat": 4,
 "nbformat_minor": 2
}
