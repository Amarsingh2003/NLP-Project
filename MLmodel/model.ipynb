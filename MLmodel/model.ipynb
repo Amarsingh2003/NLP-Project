{
 "cells": [
  {
   "cell_type": "code",
   "execution_count": 31,
   "metadata": {},
   "outputs": [],
   "source": [
    "from transformers import AutoTokenizer, AutoModel\n",
    "import torch\n",
    "import torch.nn.functional as F"
   ]
  },
  {
   "cell_type": "code",
   "execution_count": 32,
   "metadata": {},
   "outputs": [],
   "source": [
    "import faiss \n",
    "import numpy as np\n",
    "import pickle"
   ]
  },
  {
   "cell_type": "code",
   "execution_count": 33,
   "metadata": {},
   "outputs": [],
   "source": [
    "import os\n",
    "os.environ['KMP_DUPLICATE_LIB_OK']='True'"
   ]
  },
  {
   "cell_type": "code",
   "execution_count": 34,
   "metadata": {},
   "outputs": [],
   "source": [
    "class semanticEmbedding:\n",
    "    def __init__(self, model_name='sentence-transformers/all-mpnet-base-v2'):\n",
    "        self.tokenizer = AutoTokenizer.from_pretrained(model_name)\n",
    "        self.model = AutoModel.from_pretrained(model_name)\n",
    "\n",
    "    def mean_pooling(self, model_output, attention_mask):\n",
    "        token_embeddings = model_output[0] #First element of model_output contains all token embeddings\n",
    "        input_mask_expanded = attention_mask.unsqueeze(-1).expand(token_embeddings.size()).float()\n",
    "        return torch.sum(token_embeddings * input_mask_expanded, 1) / torch.clamp(input_mask_expanded.sum(1), min=1e-9)\n",
    "    def get_embedding(self, sentences):\n",
    "    # Tokenize sentences\n",
    "        encoded_input = self.tokenizer(sentences, padding=True, truncation=True, return_tensors='pt')\n",
    "        with torch.no_grad():\n",
    "            model_output = self.model(**encoded_input)\n",
    "        # Perform pooling\n",
    "        sentence_embeddings = self.mean_pooling(model_output, encoded_input['attention_mask'])\n",
    "\n",
    "        # Normalize embeddings\n",
    "        sentence_embeddings = F.normalize(sentence_embeddings, p=2, dim=1)\n",
    "        return sentence_embeddings.detach().numpy()"
   ]
  },
  {
   "cell_type": "code",
   "execution_count": 35,
   "metadata": {},
   "outputs": [],
   "source": [
    "class FaissIdx:\n",
    "\n",
    "    def __init__(self, model, dim=768):\n",
    "        self.index = faiss.IndexFlatIP(dim) # need to load the pickle model in the final file\n",
    "        # self.index = faiss\n",
    "        # Maintaining the document data\n",
    "        self.doc_map = dict()\n",
    "        self.model = model\n",
    "        self.ctr = 0\n",
    "\n",
    "    def add_doc(self, document_text):\n",
    "        self.index.add(self.model.get_embedding(document_text))\n",
    "        self.doc_map[self.ctr] = document_text # store the original document text\n",
    "        self.ctr += 1\n",
    "\n",
    "    def search_doc(self, query, k=3):\n",
    "        D, I = self.index.search(self.model.get_embedding(query), 5)\n",
    "        return [{self.doc_map[idx]: score} for idx, score in zip(I[0], D[0]) if idx in self.doc_map]\n",
    "    def save_index(self, index_filename, doc_map_filename):\n",
    "        # Save Faiss index to file\n",
    "        faiss.write_index(self.index, index_filename)\n",
    "\n",
    "        # Save document map to file using pickle\n",
    "        with open(doc_map_filename, 'wb') as f:\n",
    "            pickle.dump(self.doc_map, f)\n",
    "\n",
    "    def load_index(self, index_filename, doc_map_filename):\n",
    "        # Load Faiss index from file\n",
    "        self.index = faiss.read_index(index_filename)\n",
    "\n",
    "        # Load document map from file using pickle\n",
    "        with open(doc_map_filename, 'rb') as f:\n",
    "            self.doc_map = pickle.load(f)"
   ]
  },
  {
   "cell_type": "code",
   "execution_count": 36,
   "metadata": {},
   "outputs": [],
   "source": [
    "# creating an instance of the class\n",
    "model = semanticEmbedding()"
   ]
  },
  {
   "cell_type": "code",
   "execution_count": 37,
   "metadata": {},
   "outputs": [],
   "source": [
    "index = FaissIdx(model)"
   ]
  },
  {
   "cell_type": "code",
   "execution_count": 38,
   "metadata": {},
   "outputs": [],
   "source": [
    "index.load_index('index.bin', 'doc_map.pkl')"
   ]
  },
  {
   "cell_type": "code",
   "execution_count": 39,
   "metadata": {},
   "outputs": [],
   "source": [
    "import google.generativeai as genai"
   ]
  },
  {
   "cell_type": "code",
   "execution_count": 40,
   "metadata": {},
   "outputs": [],
   "source": [
    "genai.configure(api_key=os.environ.get('GOOGLE_API_KEY'))"
   ]
  },
  {
   "cell_type": "code",
   "execution_count": 41,
   "metadata": {},
   "outputs": [],
   "source": [
    "model = genai.GenerativeModel('gemini-pro')"
   ]
  },
  {
   "cell_type": "markdown",
   "metadata": {},
   "source": [
    "# given the query, run the following code sequentially"
   ]
  },
  {
   "cell_type": "code",
   "execution_count": 50,
   "metadata": {},
   "outputs": [],
   "source": [
    "query = \"I want to improve the situtaion of poor womens\""
   ]
  },
  {
   "cell_type": "code",
   "execution_count": 51,
   "metadata": {},
   "outputs": [],
   "source": [
    "user_name = 'Amar'"
   ]
  },
  {
   "cell_type": "code",
   "execution_count": 52,
   "metadata": {},
   "outputs": [],
   "source": [
    "query_result = index.search_doc(query)"
   ]
  },
  {
   "cell_type": "code",
   "execution_count": 53,
   "metadata": {},
   "outputs": [],
   "source": [
    "context = ''"
   ]
  },
  {
   "cell_type": "code",
   "execution_count": 54,
   "metadata": {},
   "outputs": [],
   "source": [
    "for i in range(5):\n",
    "    for key, value in query_result[i].items():\n",
    "        if(value>0.23):\n",
    "            context += key"
   ]
  },
  {
   "cell_type": "code",
   "execution_count": 55,
   "metadata": {},
   "outputs": [
    {
     "data": {
      "text/plain": [
       "'Women Empowerment Scheme, Ministry of Women & Child Development = Get Information on Women Empowerment Scheme provided by the Ministry of Women & Child Development. Ministry of Women and Child Development, Government of India have come up with various schemes, programmes, social welfare schemes, Health and Nutrition, scholarship for women empowerment, Girl Child pregnant women, mothers, ward members, Anganwadi Workers, Women Health Volunteers, the women living in the rural & tribal areas, ex-servicemen, physically handicapped, nursing women, Lactating mother, widows/destitute, Old age women, women self-help group (SHG), Women Entrepreneurs and...Information on Mahila Samakhya Programme by Department of School Education and Literacy = Mahila Samakhya Programme was launched for the education and empowerment of women in rural areas. Users can get information about Mahila Samakhya Programme like funding pattern, genesis, expansion & coverage and plan document. Details of women mobilisation and programme agendas and role of the National Resource Group of Mahila Samakhya are provided. Information about National Evaluation - Executive Summary in different states are also provided. Links to other Mahila Samakhya Sites are provided.Schemes for welfare of backward classes by Ministry of Social Justice and Empowerment = Information about schemes and programmes for the welfare of backward classes by Ministry of Social Justice and Empowerment. Information about pre-matric and post-matric scholarships, centrally sponsored schemes of construction of hostels, assistance to voluntary organisations working for welfare of OBCs, etc are available. Information on National Backward Classes Finance and Development Corporation (NBCFDC), state-wise and scheme-wise expenditure under the pre-Matric and post-Matric and hostels for OBCs and contact details of concerned officers for queries can also be obtained.Grant-in-Aid for Research, Publication and Monitoring = The projects sponsored by the Department of Women & Child Development will be in the fields of welfare and development of women and children including Food and Nutrition aspects.Child Protection & Welfare Schemes, Ministry of Women & Child Development = Get Information on Child Protection & Welfare Schemes provided by the Ministry of Women & Child Development. Ministry of Women and Child Development, Government of India have come up with various schemes, programmes, social welfare schemes, Health and Nutrition, scholarship for women empowerment, Girl Child pregnant women, mothers, ward members, Anganwadi Workers, Women Health Volunteers, the women living in the rural & tribal areas, ex-servicemen, physically handicapped, nursing women, Lactating mother, widows/destitute, Old age women, women self-help group (SHG), Women...'"
      ]
     },
     "execution_count": 55,
     "metadata": {},
     "output_type": "execute_result"
    }
   ],
   "source": [
    "context"
   ]
  },
  {
   "cell_type": "code",
   "execution_count": 56,
   "metadata": {},
   "outputs": [],
   "source": [
    "content = \"\""
   ]
  },
  {
   "cell_type": "code",
   "execution_count": 57,
   "metadata": {},
   "outputs": [
    {
     "name": "stdout",
     "output_type": "stream",
     "text": [
      "Hello Amar,\n",
      "\n",
      "Thank you for reaching out! 🌟 Based on the information you provided, here are some government schemes that might be relevant to your situation:\n",
      "\n",
      "1. **National Mission for Empowerment of Women (NMEW)**:\n",
      "   - Eligibility: Women who are economically disadvantaged or marginalized.\n",
      "   - Benefit: Provides financial assistance, skill development training, and other support services to help women improve their livelihoods and gain economic empowerment.\n",
      "   - How to apply: Contact the nearest District Women and Child Development Office or visit the official website of the Ministry of Women and Child Development.\n",
      "\n",
      "2. **Mahila Shakti Kendra (MSK)**:\n",
      "   - Eligibility: Women of all ages and backgrounds.\n",
      "   - Benefit: Provides a range of services such as skill training, counseling, legal aid, and access to government schemes to empower women and improve their quality of life.\n",
      "   - How to apply: Visit the nearest Mahila Shakti Kendra or contact the local Women and Child Development Department.\n",
      "\n",
      "3. **Ujjwala Yojana:**\n",
      "   - Eligibility: Women living below the poverty line, especially those belonging to marginalized communities.\n",
      "   - Benefit: Provides free LPG connections to eligible households to improve their access to clean cooking fuel and reduce health risks associated with traditional cooking methods.\n",
      "   - How to apply: Contact the nearest LPG distributor or visit the official website of the Ministry of Petroleum and Natural Gas.\n",
      "\n",
      "4. **Swaran Jayanti Shahari Rozgar Yojana (SJSRY)**:\n",
      "   - Eligibility: Urban poor living in slum areas.\n",
      "   - Benefit: Provides skill development training and self-employment opportunities to help urban poor women generate income and improve their livelihoods.\n",
      "   - How to apply: Contact the nearest urban local body or visit the official website of the Ministry of Housing and Urban Affairs.\n",
      "\n",
      "5. **National Rural Livelihood Mission (NRLM)**:\n",
      "   - Eligibility: Rural women from socio-economically disadvantaged backgrounds.\n",
      "   - Benefit: Provides financial assistance, skill development training, and enterprise development support to help women start and grow their own businesses and improve their income levels.\n",
      "   - How to apply: Contact the nearest NRLM office or visit the official website of the Ministry of Rural Development.\n",
      "\n",
      "If you have any more questions or need further assistance, feel free to ask!\n",
      "\n",
      "Best regards,\n",
      "GovSevak.\n",
      "\n",
      "*This message is generated by GENAI, GENAI can make mistakes. Consider checking important information.*\n"
     ]
    }
   ],
   "source": [
    "if context == '':\n",
    "    print('Is there anything else I can help you with')\n",
    "else:\n",
    "   content = f'''Use this query and context and respond In this format Hello [{user_name}],\n",
    "\n",
    "      Thank you for reaching out! 🌟 Based on the information you provided, here are some government schemes that might be relevant to your situation:\n",
    "\n",
    "      1. [Scheme Name 1]:\n",
    "         - Information like eligibility, benifit, how to apply link.\n",
    "\n",
    "      2. [Scheme Name 2]:\n",
    "         - Information like eligibility, benifit, how to apply link.\n",
    "\n",
    "      3. [Scheme Name 2]:\n",
    "         - Information like eligibility, benifit, how to apply link.\n",
    "\n",
    "      4. [Scheme Name 2]:\n",
    "         - Information like eligibility, benifit, how to apply link.\n",
    "\n",
    "      5. [Scheme Name 2]:\n",
    "         - Information like eligibility, benifit, how to apply link.\n",
    "\n",
    "\n",
    "      If you have any more questions or need further assistance, feel free to ask!\n",
    "\n",
    "      Best regards,\n",
    "      GovSevak.\n",
    "\n",
    "      *This message is generated by GENAI, GENAI can make mistakes. Consider checking important information.*\n",
    "\n",
    "\n",
    "\n",
    "      QUERY:{query} CONTEXT:{context}'''\n",
    "   response = model.generate_content(content)\n",
    "   print(response.text)\n"
   ]
  },
  {
   "cell_type": "code",
   "execution_count": null,
   "metadata": {},
   "outputs": [],
   "source": []
  }
 ],
 "metadata": {
  "kernelspec": {
   "display_name": "env",
   "language": "python",
   "name": "python3"
  },
  "language_info": {
   "codemirror_mode": {
    "name": "ipython",
    "version": 3
   },
   "file_extension": ".py",
   "mimetype": "text/x-python",
   "name": "python",
   "nbconvert_exporter": "python",
   "pygments_lexer": "ipython3",
   "version": "3.11.5"
  }
 },
 "nbformat": 4,
 "nbformat_minor": 2
}
